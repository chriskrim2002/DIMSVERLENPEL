{
  "nbformat": 4,
  "nbformat_minor": 0,
  "metadata": {
    "colab": {
      "provenance": []
    },
    "kernelspec": {
      "name": "python3",
      "display_name": "Python 3"
    },
    "language_info": {
      "name": "python"
    }
  },
  "cells": [
    {
      "cell_type": "markdown",
      "source": [
        "**`INTRODUCTION`**\n",
        "\n",
        "Introduction\n",
        "In the rapidly evolving landscape of Web 3.0, the demand for decentralized solutions that can operate seamlessly across multiple blockchains is becoming increasingly important. DIMSVERLENPEL, an acronym for Decentralized Identity Management System with Cross-Chain Verification, Lending Platform with Cross-Chain Collateralization, and Exchange (DEX) with Cross-Chain Liquidity, is a comprehensive system designed to empower users with a robust and secure platform to manage their digital identities, borrow and lend crypto assets, and trade them across various blockchains."
      ],
      "metadata": {
        "id": "IlJO5mwh4msr"
      }
    },
    {
      "cell_type": "markdown",
      "source": [
        "Developing a comprehensive system like DIMSVERLENPEL, which combines decentralized identity management, cross-chain verification, lending with cross-chain collateralization, and a cross-chain DEX with liquidity aggregation, requires a multi-faceted approach. Below, I'll outline the core functionality for each component and provide a high-level implementation strategy using Python and relevant blockchain technologies."
      ],
      "metadata": {
        "id": "e7l_VaWs5M-1"
      }
    },
    {
      "cell_type": "markdown",
      "source": [
        "**1. Decentralized Identity Management System (DIMS)**"
      ],
      "metadata": {
        "id": "s6QfY7_36VV7"
      }
    },
    {
      "cell_type": "markdown",
      "source": [
        "**Objective**"
      ],
      "metadata": {
        "id": "pZBEb_2C6zaY"
      }
    },
    {
      "cell_type": "markdown",
      "source": [
        "Manage user identities across various blockchains, enabling verifiable credentials and secure authentication."
      ],
      "metadata": {
        "id": "AU_bpRK27EGQ"
      }
    },
    {
      "cell_type": "markdown",
      "source": [
        " **Features**"
      ],
      "metadata": {
        "id": "OJapKxRa7bYN"
      }
    },
    {
      "cell_type": "markdown",
      "source": [
        "**Self-sovereign Identity (SSI):** Decentralized identifiers (DIDs) and verifiable credentials (VCs).\n",
        "\n",
        "**Cross-chain Identity Verification:** Verifying user identity across different blockchains.\n",
        "\n",
        "**Secure Authentication:** Using cryptographic methods for secure authentication.\n"
      ],
      "metadata": {
        "id": "av2TYHCa7oeO"
      }
    },
    {
      "cell_type": "markdown",
      "source": [
        "**Implementation Strategy:**"
      ],
      "metadata": {
        "id": "4E9EbCeo8ShH"
      }
    },
    {
      "cell_type": "markdown",
      "source": [
        "**Libraries to be use are:**"
      ],
      "metadata": {
        "id": "Pn5CuG1S8i6h"
      }
    },
    {
      "cell_type": "markdown",
      "source": [
        "indy-sdk for creating and managing DIDs.\n",
        "\n",
        "web3.py for Ethereum-based operations.\n",
        "\n",
        "pytezos for Tezos-based operations.\n"
      ],
      "metadata": {
        "id": "IJ0PeZ058-AD"
      }
    },
    {
      "cell_type": "markdown",
      "source": [
        "**Smart Contracts:**"
      ],
      "metadata": {
        "id": "zqsk41yk9KK9"
      }
    },
    {
      "cell_type": "markdown",
      "source": [
        "Smart contracts on Ethereum, Tezos, and other blockchains for storing and\n",
        "\n",
        "verifying DIDs and VCs."
      ],
      "metadata": {
        "id": "MfGiUiS-9T8B"
      }
    },
    {
      "cell_type": "code",
      "source": [
        "!pip install indy\n",
        "!pip install matplotlib-venn\n",
        "!apt-get -qq install -y libfluidsynth1\n",
        "# https://pypi.python.org/pypi/libarchive\n",
        "!apt-get -qq install -y libarchive-dev && pip install -U libarchive\n",
        "!pip install pycryptodomex\n",
        "!pip install libarchive\n",
        "# https://pypi.python.org/pypi/pydot\n",
        "!apt-get -qq install -y graphviz && pip install pydot\n",
        "!pip install cartopy\n",
        "import cartopy\n",
        "import pydot\n",
        "!apt-get update\n",
        "!apt-get install -y build-essential libssl-dev libffi-dev python3-dev\n",
        "!pip install python3-indy\n",
        "from indy import did, wallet, anoncreds, crypto\n",
        "# Create a wallet for storing DIDs\n",
        "from indy import did, wallet, anoncreds, crypto\n",
        "\n",
        "# Create a wallet for storing DIDs\n",
        "async def create_wallet(wallet_name, wallet_key):\n",
        "    wallet_config = json.dumps({\"id\": wallet_name})\n",
        "    wallet_credentials = json.dumps({\"key\": wallet_key})\n",
        "    await wallet.create_wallet(wallet_config, wallet_credentials)\n",
        "    return await wallet.open_wallet(wallet_config, wallet_credentials)\n",
        "\n",
        "# Create a new DID\n",
        "async def create_did(wallet_handle):\n",
        "    (my_did, my_verkey) = await did.create_and_store_my_did(wallet_handle, \"{}\")\n",
        "    return my_did, my_verkey\n",
        "\n",
        "# Create a verifiable credential schema\n",
        "async def create_schema(issuer_did, schema_name, schema_version, attr_names):\n",
        "    schema_id, schema_json = await anoncreds.issuer_create_schema(issuer_did, schema_name, schema_version, json.dumps(attr_names))\n",
        "    return schema_id, schema_json\n",
        "\n",
        "# Verify the user's identity across chains\n",
        "async def verify_identity(did, verkey):\n",
        "    # Implement cross-chain verification logic\n",
        "    pass\n",
        "# Create a new DID\n",
        "async def create_did(wallet_handle):\n",
        "    (my_did, my_verkey) = await did.create_and_store_my_did(wallet_handle, \"{}\")\n",
        "    return my_did, my_verkey\n",
        "\n",
        "# Create a verifiable credential schema\n",
        "async def create_schema(issuer_did, schema_name, schema_version, attr_names):\n",
        "    schema_id, schema_json = await anoncreds.issuer_create_schema(issuer_did, schema_name, schema_version, json.dumps(attr_names))\n",
        "    return schema_id, schema_json\n",
        "\n",
        "# Verify the user's identity across chains\n",
        "async def verify_identity(did, verkey):\n",
        "    # Implement cross-chain verification logic\n",
        "    pass"
      ],
      "metadata": {
        "colab": {
          "base_uri": "https://localhost:8080/"
        },
        "id": "dD5PO7HV9YGt",
        "outputId": "fa4ffff4-a1d9-4632-e8f9-6e3325a5ad65"
      },
      "execution_count": null,
      "outputs": [
        {
          "output_type": "stream",
          "name": "stdout",
          "text": [
            "Requirement already satisfied: indy in /usr/local/lib/python3.10/dist-packages (0.1)\n",
            "Requirement already satisfied: matplotlib-venn in /usr/local/lib/python3.10/dist-packages (0.11.10)\n",
            "Requirement already satisfied: matplotlib in /usr/local/lib/python3.10/dist-packages (from matplotlib-venn) (3.7.1)\n",
            "Requirement already satisfied: numpy in /usr/local/lib/python3.10/dist-packages (from matplotlib-venn) (1.26.4)\n",
            "Requirement already satisfied: scipy in /usr/local/lib/python3.10/dist-packages (from matplotlib-venn) (1.13.1)\n",
            "Requirement already satisfied: contourpy>=1.0.1 in /usr/local/lib/python3.10/dist-packages (from matplotlib->matplotlib-venn) (1.2.1)\n",
            "Requirement already satisfied: cycler>=0.10 in /usr/local/lib/python3.10/dist-packages (from matplotlib->matplotlib-venn) (0.12.1)\n",
            "Requirement already satisfied: fonttools>=4.22.0 in /usr/local/lib/python3.10/dist-packages (from matplotlib->matplotlib-venn) (4.53.1)\n",
            "Requirement already satisfied: kiwisolver>=1.0.1 in /usr/local/lib/python3.10/dist-packages (from matplotlib->matplotlib-venn) (1.4.5)\n",
            "Requirement already satisfied: packaging>=20.0 in /usr/local/lib/python3.10/dist-packages (from matplotlib->matplotlib-venn) (24.1)\n",
            "Requirement already satisfied: pillow>=6.2.0 in /usr/local/lib/python3.10/dist-packages (from matplotlib->matplotlib-venn) (9.4.0)\n",
            "Requirement already satisfied: pyparsing>=2.3.1 in /usr/local/lib/python3.10/dist-packages (from matplotlib->matplotlib-venn) (3.1.2)\n",
            "Requirement already satisfied: python-dateutil>=2.7 in /usr/local/lib/python3.10/dist-packages (from matplotlib->matplotlib-venn) (2.8.2)\n",
            "Requirement already satisfied: six>=1.5 in /usr/local/lib/python3.10/dist-packages (from python-dateutil>=2.7->matplotlib->matplotlib-venn) (1.16.0)\n",
            "E: Package 'libfluidsynth1' has no installation candidate\n",
            "Collecting libarchive\n",
            "  Using cached libarchive-0.4.7.tar.gz (23 kB)\n",
            "  Preparing metadata (setup.py) ... \u001b[?25l\u001b[?25hdone\n",
            "Collecting nose (from libarchive)\n",
            "  Using cached nose-1.3.7-py3-none-any.whl.metadata (1.7 kB)\n",
            "Using cached nose-1.3.7-py3-none-any.whl (154 kB)\n",
            "Building wheels for collected packages: libarchive\n",
            "  \u001b[1;31merror\u001b[0m: \u001b[1msubprocess-exited-with-error\u001b[0m\n",
            "  \n",
            "  \u001b[31m×\u001b[0m \u001b[32mpython setup.py bdist_wheel\u001b[0m did not run successfully.\n",
            "  \u001b[31m│\u001b[0m exit code: \u001b[1;36m1\u001b[0m\n",
            "  \u001b[31m╰─>\u001b[0m See above for output.\n",
            "  \n",
            "  \u001b[1;35mnote\u001b[0m: This error originates from a subprocess, and is likely not a problem with pip.\n",
            "  Building wheel for libarchive (setup.py) ... \u001b[?25lerror\n",
            "\u001b[31m  ERROR: Failed building wheel for libarchive\u001b[0m\u001b[31m\n",
            "\u001b[0m\u001b[?25h  Running setup.py clean for libarchive\n",
            "Failed to build libarchive\n",
            "\u001b[31mERROR: ERROR: Failed to build installable wheels for some pyproject.toml based projects (libarchive)\u001b[0m\u001b[31m\n",
            "\u001b[0mRequirement already satisfied: pycryptodomex in /usr/local/lib/python3.10/dist-packages (3.20.0)\n",
            "Collecting libarchive\n",
            "  Using cached libarchive-0.4.7.tar.gz (23 kB)\n",
            "  Preparing metadata (setup.py) ... \u001b[?25l\u001b[?25hdone\n",
            "Collecting nose (from libarchive)\n",
            "  Using cached nose-1.3.7-py3-none-any.whl.metadata (1.7 kB)\n",
            "Using cached nose-1.3.7-py3-none-any.whl (154 kB)\n",
            "Building wheels for collected packages: libarchive\n",
            "  \u001b[1;31merror\u001b[0m: \u001b[1msubprocess-exited-with-error\u001b[0m\n",
            "  \n",
            "  \u001b[31m×\u001b[0m \u001b[32mpython setup.py bdist_wheel\u001b[0m did not run successfully.\n",
            "  \u001b[31m│\u001b[0m exit code: \u001b[1;36m1\u001b[0m\n",
            "  \u001b[31m╰─>\u001b[0m See above for output.\n",
            "  \n",
            "  \u001b[1;35mnote\u001b[0m: This error originates from a subprocess, and is likely not a problem with pip.\n",
            "  Building wheel for libarchive (setup.py) ... \u001b[?25lerror\n",
            "\u001b[31m  ERROR: Failed building wheel for libarchive\u001b[0m\u001b[31m\n",
            "\u001b[0m\u001b[?25h  Running setup.py clean for libarchive\n",
            "Failed to build libarchive\n",
            "\u001b[31mERROR: ERROR: Failed to build installable wheels for some pyproject.toml based projects (libarchive)\u001b[0m\u001b[31m\n",
            "\u001b[0mRequirement already satisfied: pydot in /usr/local/lib/python3.10/dist-packages (1.4.2)\n",
            "Requirement already satisfied: pyparsing>=2.1.4 in /usr/local/lib/python3.10/dist-packages (from pydot) (3.1.2)\n",
            "Requirement already satisfied: cartopy in /usr/local/lib/python3.10/dist-packages (0.23.0)\n",
            "Requirement already satisfied: numpy>=1.21 in /usr/local/lib/python3.10/dist-packages (from cartopy) (1.26.4)\n",
            "Requirement already satisfied: matplotlib>=3.5 in /usr/local/lib/python3.10/dist-packages (from cartopy) (3.7.1)\n",
            "Requirement already satisfied: shapely>=1.7 in /usr/local/lib/python3.10/dist-packages (from cartopy) (2.0.5)\n",
            "Requirement already satisfied: packaging>=20 in /usr/local/lib/python3.10/dist-packages (from cartopy) (24.1)\n",
            "Requirement already satisfied: pyshp>=2.3 in /usr/local/lib/python3.10/dist-packages (from cartopy) (2.3.1)\n",
            "Requirement already satisfied: pyproj>=3.3.1 in /usr/local/lib/python3.10/dist-packages (from cartopy) (3.6.1)\n",
            "Requirement already satisfied: contourpy>=1.0.1 in /usr/local/lib/python3.10/dist-packages (from matplotlib>=3.5->cartopy) (1.2.1)\n",
            "Requirement already satisfied: cycler>=0.10 in /usr/local/lib/python3.10/dist-packages (from matplotlib>=3.5->cartopy) (0.12.1)\n",
            "Requirement already satisfied: fonttools>=4.22.0 in /usr/local/lib/python3.10/dist-packages (from matplotlib>=3.5->cartopy) (4.53.1)\n",
            "Requirement already satisfied: kiwisolver>=1.0.1 in /usr/local/lib/python3.10/dist-packages (from matplotlib>=3.5->cartopy) (1.4.5)\n",
            "Requirement already satisfied: pillow>=6.2.0 in /usr/local/lib/python3.10/dist-packages (from matplotlib>=3.5->cartopy) (9.4.0)\n",
            "Requirement already satisfied: pyparsing>=2.3.1 in /usr/local/lib/python3.10/dist-packages (from matplotlib>=3.5->cartopy) (3.1.2)\n",
            "Requirement already satisfied: python-dateutil>=2.7 in /usr/local/lib/python3.10/dist-packages (from matplotlib>=3.5->cartopy) (2.8.2)\n",
            "Requirement already satisfied: certifi in /usr/local/lib/python3.10/dist-packages (from pyproj>=3.3.1->cartopy) (2024.7.4)\n",
            "Requirement already satisfied: six>=1.5 in /usr/local/lib/python3.10/dist-packages (from python-dateutil>=2.7->matplotlib>=3.5->cartopy) (1.16.0)\n",
            "Hit:1 http://security.ubuntu.com/ubuntu jammy-security InRelease\n",
            "Hit:2 http://archive.ubuntu.com/ubuntu jammy InRelease\n",
            "Hit:3 http://archive.ubuntu.com/ubuntu jammy-updates InRelease\n",
            "Hit:4 https://cloud.r-project.org/bin/linux/ubuntu jammy-cran40/ InRelease\n",
            "Hit:5 https://developer.download.nvidia.com/compute/cuda/repos/ubuntu2204/x86_64  InRelease\n",
            "Hit:6 http://archive.ubuntu.com/ubuntu jammy-backports InRelease\n",
            "Ign:7 https://r2u.stat.illinois.edu/ubuntu jammy InRelease\n",
            "Hit:8 https://r2u.stat.illinois.edu/ubuntu jammy Release\n",
            "Hit:10 https://ppa.launchpadcontent.net/deadsnakes/ppa/ubuntu jammy InRelease\n",
            "Hit:11 https://ppa.launchpadcontent.net/graphics-drivers/ppa/ubuntu jammy InRelease\n",
            "Hit:12 https://ppa.launchpadcontent.net/ubuntugis/ppa/ubuntu jammy InRelease\n",
            "Reading package lists... Done\n",
            "W: Skipping acquire of configured file 'main/source/Sources' as repository 'https://r2u.stat.illinois.edu/ubuntu jammy InRelease' does not seem to provide it (sources.list entry misspelt?)\n",
            "Reading package lists... Done\n",
            "Building dependency tree... Done\n",
            "Reading state information... Done\n",
            "build-essential is already the newest version (12.9ubuntu3).\n",
            "libffi-dev is already the newest version (3.4.2-4).\n",
            "libssl-dev is already the newest version (3.0.2-0ubuntu1.17).\n",
            "python3-dev is already the newest version (3.10.6-1~22.04).\n",
            "0 upgraded, 0 newly installed, 0 to remove and 47 not upgraded.\n",
            "Requirement already satisfied: python3-indy in /usr/local/lib/python3.10/dist-packages (1.16.0.post286)\n",
            "Requirement already satisfied: base58 in /usr/local/lib/python3.10/dist-packages (from python3-indy) (2.1.1)\n"
          ]
        }
      ]
    },
    {
      "cell_type": "markdown",
      "source": [
        "**2.Lending Platform with Cross-Chain**\n",
        "\n",
        "Collateralization (VERLEN)"
      ],
      "metadata": {
        "id": "EEj2-VN8JzM4"
      }
    },
    {
      "cell_type": "markdown",
      "source": [
        "**Objective:** Facilitate borrowing and lending of crypto assets using cross-chain collateral."
      ],
      "metadata": {
        "id": "TKY9kv3rKXc6"
      }
    },
    {
      "cell_type": "markdown",
      "source": [
        "**Core Features:**"
      ],
      "metadata": {
        "id": "glYBUEbEKmBN"
      }
    },
    {
      "cell_type": "markdown",
      "source": [
        "**Collateral Management:** Use assets from different blockchains as collateral.\n",
        "\n",
        "**Cross-chain Oracles:** Real-time price feed from different blockchains.\n",
        "\n",
        "**Loan Contracts:** Smart contracts that manage loans, interest rates, and collateral liquidation."
      ],
      "metadata": {
        "id": "73jKFmx7Kyip"
      }
    },
    {
      "cell_type": "markdown",
      "source": [
        "**Implementation Strategy:**"
      ],
      "metadata": {
        "id": "lWGcfZ5dLK9V"
      }
    },
    {
      "cell_type": "markdown",
      "source": [
        "**Libraries/Frameworks:**\n"
      ],
      "metadata": {
        "id": "5hJDBHu_LTcD"
      }
    },
    {
      "cell_type": "markdown",
      "source": [
        "web3.py for Ethereum.\n",
        "\n",
        "pytezos for Tezos.\n",
        "\n",
        "Oracles using Chainlink or similar services."
      ],
      "metadata": {
        "id": "aWho2w68LjNM"
      }
    },
    {
      "cell_type": "markdown",
      "source": [
        "**Smart Contracts:**\n"
      ],
      "metadata": {
        "id": "H6cS9mU8L1EK"
      }
    },
    {
      "cell_type": "markdown",
      "source": [
        "Collateral management contracts on different blockchains.\n",
        "\n",
        "Loan agreements that handle cross-chain collateral."
      ],
      "metadata": {
        "id": "r_oRjFL7MBMB"
      }
    },
    {
      "cell_type": "code",
      "source": [
        "#Python Code Example:\n",
        "!pip install web3\n",
        "from web3 import Web3"
      ],
      "metadata": {
        "colab": {
          "base_uri": "https://localhost:8080/"
        },
        "id": "RBeFqeYLMEeC",
        "outputId": "303ec9d4-5518-4852-efb4-e303684869c2"
      },
      "execution_count": null,
      "outputs": [
        {
          "output_type": "stream",
          "name": "stdout",
          "text": [
            "Requirement already satisfied: web3 in /usr/local/lib/python3.10/dist-packages (6.20.2)\n",
            "Requirement already satisfied: aiohttp>=3.7.4.post0 in /usr/local/lib/python3.10/dist-packages (from web3) (3.10.2)\n",
            "Requirement already satisfied: eth-abi>=4.0.0 in /usr/local/lib/python3.10/dist-packages (from web3) (5.1.0)\n",
            "Requirement already satisfied: eth-account<0.13,>=0.8.0 in /usr/local/lib/python3.10/dist-packages (from web3) (0.11.2)\n",
            "Requirement already satisfied: eth-hash>=0.5.1 in /usr/local/lib/python3.10/dist-packages (from eth-hash[pycryptodome]>=0.5.1->web3) (0.7.0)\n",
            "Requirement already satisfied: eth-typing!=4.2.0,<5.0.0,>=3.0.0 in /usr/local/lib/python3.10/dist-packages (from web3) (4.4.0)\n",
            "Requirement already satisfied: eth-utils<5,>=2.1.0 in /usr/local/lib/python3.10/dist-packages (from web3) (4.1.1)\n",
            "Requirement already satisfied: hexbytes<0.4.0,>=0.1.0 in /usr/local/lib/python3.10/dist-packages (from web3) (0.3.1)\n",
            "Requirement already satisfied: jsonschema>=4.0.0 in /usr/local/lib/python3.10/dist-packages (from web3) (4.23.0)\n",
            "Requirement already satisfied: lru-dict<1.3.0,>=1.1.6 in /usr/local/lib/python3.10/dist-packages (from web3) (1.2.0)\n",
            "Requirement already satisfied: protobuf>=4.21.6 in /usr/local/lib/python3.10/dist-packages (from web3) (5.27.3)\n",
            "Requirement already satisfied: requests>=2.16.0 in /usr/local/lib/python3.10/dist-packages (from web3) (2.32.3)\n",
            "Requirement already satisfied: typing-extensions>=4.0.1 in /usr/local/lib/python3.10/dist-packages (from web3) (4.12.2)\n",
            "Requirement already satisfied: websockets>=10.0.0 in /usr/local/lib/python3.10/dist-packages (from web3) (12.0)\n",
            "Requirement already satisfied: pyunormalize>=15.0.0 in /usr/local/lib/python3.10/dist-packages (from web3) (15.1.0)\n",
            "Requirement already satisfied: aiohappyeyeballs>=2.3.0 in /usr/local/lib/python3.10/dist-packages (from aiohttp>=3.7.4.post0->web3) (2.3.5)\n",
            "Requirement already satisfied: aiosignal>=1.1.2 in /usr/local/lib/python3.10/dist-packages (from aiohttp>=3.7.4.post0->web3) (1.3.1)\n",
            "Requirement already satisfied: attrs>=17.3.0 in /usr/local/lib/python3.10/dist-packages (from aiohttp>=3.7.4.post0->web3) (24.2.0)\n",
            "Requirement already satisfied: frozenlist>=1.1.1 in /usr/local/lib/python3.10/dist-packages (from aiohttp>=3.7.4.post0->web3) (1.4.1)\n",
            "Requirement already satisfied: multidict<7.0,>=4.5 in /usr/local/lib/python3.10/dist-packages (from aiohttp>=3.7.4.post0->web3) (6.0.5)\n",
            "Requirement already satisfied: yarl<2.0,>=1.0 in /usr/local/lib/python3.10/dist-packages (from aiohttp>=3.7.4.post0->web3) (1.9.4)\n",
            "Requirement already satisfied: async-timeout<5.0,>=4.0 in /usr/local/lib/python3.10/dist-packages (from aiohttp>=3.7.4.post0->web3) (4.0.3)\n",
            "Requirement already satisfied: parsimonious<0.11.0,>=0.10.0 in /usr/local/lib/python3.10/dist-packages (from eth-abi>=4.0.0->web3) (0.10.0)\n",
            "Requirement already satisfied: bitarray>=2.4.0 in /usr/local/lib/python3.10/dist-packages (from eth-account<0.13,>=0.8.0->web3) (2.9.2)\n",
            "Requirement already satisfied: eth-keyfile>=0.6.0 in /usr/local/lib/python3.10/dist-packages (from eth-account<0.13,>=0.8.0->web3) (0.8.1)\n",
            "Requirement already satisfied: eth-keys>=0.4.0 in /usr/local/lib/python3.10/dist-packages (from eth-account<0.13,>=0.8.0->web3) (0.5.1)\n",
            "Requirement already satisfied: eth-rlp>=0.3.0 in /usr/local/lib/python3.10/dist-packages (from eth-account<0.13,>=0.8.0->web3) (1.0.1)\n",
            "Requirement already satisfied: rlp>=1.0.0 in /usr/local/lib/python3.10/dist-packages (from eth-account<0.13,>=0.8.0->web3) (4.0.1)\n",
            "Requirement already satisfied: ckzg>=0.4.3 in /usr/local/lib/python3.10/dist-packages (from eth-account<0.13,>=0.8.0->web3) (1.0.2)\n",
            "Requirement already satisfied: pycryptodome<4,>=3.6.6 in /usr/local/lib/python3.10/dist-packages (from eth-hash[pycryptodome]>=0.5.1->web3) (3.20.0)\n",
            "Requirement already satisfied: cytoolz>=0.10.1 in /usr/local/lib/python3.10/dist-packages (from eth-utils<5,>=2.1.0->web3) (0.12.3)\n",
            "Requirement already satisfied: jsonschema-specifications>=2023.03.6 in /usr/local/lib/python3.10/dist-packages (from jsonschema>=4.0.0->web3) (2023.12.1)\n",
            "Requirement already satisfied: referencing>=0.28.4 in /usr/local/lib/python3.10/dist-packages (from jsonschema>=4.0.0->web3) (0.35.1)\n",
            "Requirement already satisfied: rpds-py>=0.7.1 in /usr/local/lib/python3.10/dist-packages (from jsonschema>=4.0.0->web3) (0.20.0)\n",
            "Requirement already satisfied: charset-normalizer<4,>=2 in /usr/local/lib/python3.10/dist-packages (from requests>=2.16.0->web3) (3.3.2)\n",
            "Requirement already satisfied: idna<4,>=2.5 in /usr/local/lib/python3.10/dist-packages (from requests>=2.16.0->web3) (3.7)\n",
            "Requirement already satisfied: urllib3<3,>=1.21.1 in /usr/local/lib/python3.10/dist-packages (from requests>=2.16.0->web3) (2.0.7)\n",
            "Requirement already satisfied: certifi>=2017.4.17 in /usr/local/lib/python3.10/dist-packages (from requests>=2.16.0->web3) (2024.7.4)\n",
            "Requirement already satisfied: toolz>=0.8.0 in /usr/local/lib/python3.10/dist-packages (from cytoolz>=0.10.1->eth-utils<5,>=2.1.0->web3) (0.12.1)\n",
            "Requirement already satisfied: regex>=2022.3.15 in /usr/local/lib/python3.10/dist-packages (from parsimonious<0.11.0,>=0.10.0->eth-abi>=4.0.0->web3) (2024.5.15)\n"
          ]
        }
      ]
    },
    {
      "cell_type": "code",
      "source": [
        "!pip install pytezos --upgrade"
      ],
      "metadata": {
        "colab": {
          "base_uri": "https://localhost:8080/"
        },
        "outputId": "de9795a1-1f76-4506-f760-5ffa3cc24939",
        "id": "HnxnXTHCl-g-"
      },
      "execution_count": null,
      "outputs": [
        {
          "output_type": "stream",
          "name": "stdout",
          "text": [
            "Collecting pytezos\n",
            "  Using cached pytezos-3.13.3-py3-none-any.whl.metadata (8.2 kB)\n",
            "Requirement already satisfied: attrs>=21.4.0 in /usr/local/lib/python3.10/dist-packages (from pytezos) (24.2.0)\n",
            "Requirement already satisfied: base58>=2.1.1 in /usr/local/lib/python3.10/dist-packages (from pytezos) (2.1.1)\n",
            "Collecting cattrs>=22.1.0 (from pytezos)\n",
            "  Using cached cattrs-23.2.3-py3-none-any.whl.metadata (10 kB)\n",
            "Requirement already satisfied: click>=8.1.3 in /usr/local/lib/python3.10/dist-packages (from pytezos) (8.1.7)\n",
            "Collecting coincurve>=20.0.0 (from pytezos)\n",
            "  Using cached coincurve-20.0.0-cp310-cp310-manylinux_2_17_x86_64.manylinux2014_x86_64.whl.metadata (4.0 kB)\n",
            "Requirement already satisfied: cryptography>=42.0.4 in /usr/local/lib/python3.10/dist-packages (from pytezos) (42.0.8)\n",
            "Collecting deprecation>=2.1.0 (from pytezos)\n",
            "  Using cached deprecation-2.1.0-py2.py3-none-any.whl.metadata (4.6 kB)\n",
            "Collecting docker>=6.0.0 (from pytezos)\n",
            "  Using cached docker-7.1.0-py3-none-any.whl.metadata (3.8 kB)\n",
            "Collecting fastecdsa>=2.2.3 (from pytezos)\n",
            "  Using cached fastecdsa-2.3.2.tar.gz (47 kB)\n",
            "  Installing build dependencies ... \u001b[?25l\u001b[?25hdone\n",
            "  Getting requirements to build wheel ... \u001b[?25l\u001b[?25hdone\n",
            "  Preparing metadata (pyproject.toml) ... \u001b[?25l\u001b[?25hdone\n",
            "Requirement already satisfied: jsonschema>=4.3.2 in /usr/local/lib/python3.10/dist-packages (from pytezos) (4.23.0)\n",
            "Collecting mnemonic>=0.21 (from pytezos)\n",
            "  Using cached mnemonic-0.21-py3-none-any.whl.metadata (3.4 kB)\n",
            "Collecting netstruct>=1.1.2 (from pytezos)\n",
            "  Using cached netstruct-1.1.2-py3-none-any.whl\n",
            "Requirement already satisfied: notebook<7,>=6.5 in /usr/local/lib/python3.10/dist-packages (from pytezos) (6.5.5)\n",
            "Collecting ply>=3.11 (from pytezos)\n",
            "  Using cached ply-3.11-py2.py3-none-any.whl.metadata (844 bytes)\n",
            "Collecting py-ecc>=7.0.0 (from pytezos)\n",
            "  Using cached py_ecc-7.0.1-py3-none-any.whl.metadata (6.3 kB)\n",
            "Collecting pysodium>=0.7.10 (from pytezos)\n",
            "  Using cached pysodium-0.7.18-py3-none-any.whl\n",
            "Requirement already satisfied: python-dateutil>=2.8.2 in /usr/local/lib/python3.10/dist-packages (from pytezos) (2.8.2)\n",
            "Requirement already satisfied: requests>=2.28.2 in /usr/local/lib/python3.10/dist-packages (from pytezos) (2.32.3)\n",
            "Collecting simple-bson>=0.0.3 (from pytezos)\n",
            "  Using cached simple_bson-0.0.3-py3-none-any.whl.metadata (1.3 kB)\n",
            "Collecting simplejson>=3.17.6 (from pytezos)\n",
            "  Using cached simplejson-3.19.3-cp310-cp310-manylinux_2_5_x86_64.manylinux1_x86_64.manylinux_2_17_x86_64.manylinux2014_x86_64.whl.metadata (3.2 kB)\n",
            "Collecting strict-rfc3339>=0.7 (from pytezos)\n",
            "  Using cached strict_rfc3339-0.7-py3-none-any.whl\n",
            "Requirement already satisfied: tabulate>=0.9.0 in /usr/local/lib/python3.10/dist-packages (from pytezos) (0.9.0)\n",
            "Collecting testcontainers>=3.7.0 (from pytezos)\n",
            "  Using cached testcontainers-4.8.0-py3-none-any.whl.metadata (7.6 kB)\n",
            "Requirement already satisfied: tqdm>=4.62.3 in /usr/local/lib/python3.10/dist-packages (from pytezos) (4.66.5)\n",
            "Requirement already satisfied: exceptiongroup>=1.1.1 in /usr/local/lib/python3.10/dist-packages (from cattrs>=22.1.0->pytezos) (1.2.2)\n",
            "Requirement already satisfied: typing-extensions!=4.6.3,>=4.1.0 in /usr/local/lib/python3.10/dist-packages (from cattrs>=22.1.0->pytezos) (4.12.2)\n",
            "Requirement already satisfied: asn1crypto in /usr/local/lib/python3.10/dist-packages (from coincurve>=20.0.0->pytezos) (1.5.1)\n",
            "Requirement already satisfied: cffi>=1.3.0 in /usr/local/lib/python3.10/dist-packages (from coincurve>=20.0.0->pytezos) (1.17.0)\n",
            "Requirement already satisfied: packaging in /usr/local/lib/python3.10/dist-packages (from deprecation>=2.1.0->pytezos) (24.1)\n",
            "Requirement already satisfied: urllib3>=1.26.0 in /usr/local/lib/python3.10/dist-packages (from docker>=6.0.0->pytezos) (2.0.7)\n",
            "Requirement already satisfied: jsonschema-specifications>=2023.03.6 in /usr/local/lib/python3.10/dist-packages (from jsonschema>=4.3.2->pytezos) (2023.12.1)\n",
            "Requirement already satisfied: referencing>=0.28.4 in /usr/local/lib/python3.10/dist-packages (from jsonschema>=4.3.2->pytezos) (0.35.1)\n",
            "Requirement already satisfied: rpds-py>=0.7.1 in /usr/local/lib/python3.10/dist-packages (from jsonschema>=4.3.2->pytezos) (0.20.0)\n",
            "Requirement already satisfied: jinja2 in /usr/local/lib/python3.10/dist-packages (from notebook<7,>=6.5->pytezos) (3.1.4)\n",
            "Requirement already satisfied: tornado>=6.1 in /usr/local/lib/python3.10/dist-packages (from notebook<7,>=6.5->pytezos) (6.3.3)\n",
            "Requirement already satisfied: pyzmq<25,>=17 in /usr/local/lib/python3.10/dist-packages (from notebook<7,>=6.5->pytezos) (24.0.1)\n",
            "Requirement already satisfied: argon2-cffi in /usr/local/lib/python3.10/dist-packages (from notebook<7,>=6.5->pytezos) (23.1.0)\n",
            "Requirement already satisfied: traitlets>=4.2.1 in /usr/local/lib/python3.10/dist-packages (from notebook<7,>=6.5->pytezos) (5.7.1)\n",
            "Requirement already satisfied: jupyter-core>=4.6.1 in /usr/local/lib/python3.10/dist-packages (from notebook<7,>=6.5->pytezos) (5.7.2)\n",
            "Requirement already satisfied: jupyter-client<8,>=5.3.4 in /usr/local/lib/python3.10/dist-packages (from notebook<7,>=6.5->pytezos) (6.1.12)\n",
            "Requirement already satisfied: ipython-genutils in /usr/local/lib/python3.10/dist-packages (from notebook<7,>=6.5->pytezos) (0.2.0)\n",
            "Requirement already satisfied: nbformat in /usr/local/lib/python3.10/dist-packages (from notebook<7,>=6.5->pytezos) (5.10.4)\n",
            "Requirement already satisfied: nbconvert>=5 in /usr/local/lib/python3.10/dist-packages (from notebook<7,>=6.5->pytezos) (6.5.4)\n",
            "Requirement already satisfied: nest-asyncio>=1.5 in /usr/local/lib/python3.10/dist-packages (from notebook<7,>=6.5->pytezos) (1.6.0)\n",
            "Requirement already satisfied: ipykernel in /usr/local/lib/python3.10/dist-packages (from notebook<7,>=6.5->pytezos) (5.5.6)\n",
            "Requirement already satisfied: Send2Trash>=1.8.0 in /usr/local/lib/python3.10/dist-packages (from notebook<7,>=6.5->pytezos) (1.8.3)\n",
            "Requirement already satisfied: terminado>=0.8.3 in /usr/local/lib/python3.10/dist-packages (from notebook<7,>=6.5->pytezos) (0.18.1)\n",
            "Requirement already satisfied: prometheus-client in /usr/local/lib/python3.10/dist-packages (from notebook<7,>=6.5->pytezos) (0.20.0)\n",
            "Requirement already satisfied: nbclassic>=0.4.7 in /usr/local/lib/python3.10/dist-packages (from notebook<7,>=6.5->pytezos) (1.1.0)\n",
            "Requirement already satisfied: eth-typing>=3.0.0 in /usr/local/lib/python3.10/dist-packages (from py-ecc>=7.0.0->pytezos) (4.4.0)\n",
            "Requirement already satisfied: eth-utils>=2.0.0 in /usr/local/lib/python3.10/dist-packages (from py-ecc>=7.0.0->pytezos) (4.1.1)\n",
            "Collecting cached-property>=1.5.1 (from py-ecc>=7.0.0->pytezos)\n",
            "  Using cached cached_property-1.5.2-py2.py3-none-any.whl.metadata (11 kB)\n",
            "Requirement already satisfied: six>=1.5 in /usr/local/lib/python3.10/dist-packages (from python-dateutil>=2.8.2->pytezos) (1.16.0)\n",
            "Requirement already satisfied: charset-normalizer<4,>=2 in /usr/local/lib/python3.10/dist-packages (from requests>=2.28.2->pytezos) (3.3.2)\n",
            "Requirement already satisfied: idna<4,>=2.5 in /usr/local/lib/python3.10/dist-packages (from requests>=2.28.2->pytezos) (3.7)\n",
            "Requirement already satisfied: certifi>=2017.4.17 in /usr/local/lib/python3.10/dist-packages (from requests>=2.28.2->pytezos) (2024.7.4)\n",
            "Requirement already satisfied: wrapt in /usr/local/lib/python3.10/dist-packages (from testcontainers>=3.7.0->pytezos) (1.16.0)\n",
            "Requirement already satisfied: pycparser in /usr/local/lib/python3.10/dist-packages (from cffi>=1.3.0->coincurve>=20.0.0->pytezos) (2.22)\n",
            "Requirement already satisfied: eth-hash>=0.3.1 in /usr/local/lib/python3.10/dist-packages (from eth-utils>=2.0.0->py-ecc>=7.0.0->pytezos) (0.7.0)\n",
            "Requirement already satisfied: cytoolz>=0.10.1 in /usr/local/lib/python3.10/dist-packages (from eth-utils>=2.0.0->py-ecc>=7.0.0->pytezos) (0.12.3)\n",
            "Requirement already satisfied: platformdirs>=2.5 in /usr/local/lib/python3.10/dist-packages (from jupyter-core>=4.6.1->notebook<7,>=6.5->pytezos) (4.2.2)\n",
            "Requirement already satisfied: notebook-shim>=0.2.3 in /usr/local/lib/python3.10/dist-packages (from nbclassic>=0.4.7->notebook<7,>=6.5->pytezos) (0.2.4)\n",
            "Requirement already satisfied: lxml in /usr/local/lib/python3.10/dist-packages (from nbconvert>=5->notebook<7,>=6.5->pytezos) (4.9.4)\n",
            "Requirement already satisfied: beautifulsoup4 in /usr/local/lib/python3.10/dist-packages (from nbconvert>=5->notebook<7,>=6.5->pytezos) (4.12.3)\n",
            "Requirement already satisfied: bleach in /usr/local/lib/python3.10/dist-packages (from nbconvert>=5->notebook<7,>=6.5->pytezos) (6.1.0)\n",
            "Requirement already satisfied: defusedxml in /usr/local/lib/python3.10/dist-packages (from nbconvert>=5->notebook<7,>=6.5->pytezos) (0.7.1)\n",
            "Requirement already satisfied: entrypoints>=0.2.2 in /usr/local/lib/python3.10/dist-packages (from nbconvert>=5->notebook<7,>=6.5->pytezos) (0.4)\n",
            "Requirement already satisfied: jupyterlab-pygments in /usr/local/lib/python3.10/dist-packages (from nbconvert>=5->notebook<7,>=6.5->pytezos) (0.3.0)\n",
            "Requirement already satisfied: MarkupSafe>=2.0 in /usr/local/lib/python3.10/dist-packages (from nbconvert>=5->notebook<7,>=6.5->pytezos) (2.1.5)\n",
            "Requirement already satisfied: mistune<2,>=0.8.1 in /usr/local/lib/python3.10/dist-packages (from nbconvert>=5->notebook<7,>=6.5->pytezos) (0.8.4)\n",
            "Requirement already satisfied: nbclient>=0.5.0 in /usr/local/lib/python3.10/dist-packages (from nbconvert>=5->notebook<7,>=6.5->pytezos) (0.10.0)\n",
            "Requirement already satisfied: pandocfilters>=1.4.1 in /usr/local/lib/python3.10/dist-packages (from nbconvert>=5->notebook<7,>=6.5->pytezos) (1.5.1)\n",
            "Requirement already satisfied: pygments>=2.4.1 in /usr/local/lib/python3.10/dist-packages (from nbconvert>=5->notebook<7,>=6.5->pytezos) (2.16.1)\n",
            "Requirement already satisfied: tinycss2 in /usr/local/lib/python3.10/dist-packages (from nbconvert>=5->notebook<7,>=6.5->pytezos) (1.3.0)\n",
            "Requirement already satisfied: fastjsonschema>=2.15 in /usr/local/lib/python3.10/dist-packages (from nbformat->notebook<7,>=6.5->pytezos) (2.20.0)\n",
            "Requirement already satisfied: ptyprocess in /usr/local/lib/python3.10/dist-packages (from terminado>=0.8.3->notebook<7,>=6.5->pytezos) (0.7.0)\n",
            "Requirement already satisfied: argon2-cffi-bindings in /usr/local/lib/python3.10/dist-packages (from argon2-cffi->notebook<7,>=6.5->pytezos) (21.2.0)\n",
            "Requirement already satisfied: ipython>=5.0.0 in /usr/local/lib/python3.10/dist-packages (from ipykernel->notebook<7,>=6.5->pytezos) (7.34.0)\n",
            "Requirement already satisfied: toolz>=0.8.0 in /usr/local/lib/python3.10/dist-packages (from cytoolz>=0.10.1->eth-utils>=2.0.0->py-ecc>=7.0.0->pytezos) (0.12.1)\n",
            "Requirement already satisfied: setuptools>=18.5 in /usr/local/lib/python3.10/dist-packages (from ipython>=5.0.0->ipykernel->notebook<7,>=6.5->pytezos) (71.0.4)\n",
            "Collecting jedi>=0.16 (from ipython>=5.0.0->ipykernel->notebook<7,>=6.5->pytezos)\n",
            "  Using cached jedi-0.19.1-py2.py3-none-any.whl.metadata (22 kB)\n",
            "Requirement already satisfied: decorator in /usr/local/lib/python3.10/dist-packages (from ipython>=5.0.0->ipykernel->notebook<7,>=6.5->pytezos) (4.4.2)\n",
            "Requirement already satisfied: pickleshare in /usr/local/lib/python3.10/dist-packages (from ipython>=5.0.0->ipykernel->notebook<7,>=6.5->pytezos) (0.7.5)\n",
            "Requirement already satisfied: prompt-toolkit!=3.0.0,!=3.0.1,<3.1.0,>=2.0.0 in /usr/local/lib/python3.10/dist-packages (from ipython>=5.0.0->ipykernel->notebook<7,>=6.5->pytezos) (3.0.47)\n",
            "Requirement already satisfied: backcall in /usr/local/lib/python3.10/dist-packages (from ipython>=5.0.0->ipykernel->notebook<7,>=6.5->pytezos) (0.2.0)\n",
            "Requirement already satisfied: matplotlib-inline in /usr/local/lib/python3.10/dist-packages (from ipython>=5.0.0->ipykernel->notebook<7,>=6.5->pytezos) (0.1.7)\n",
            "Requirement already satisfied: pexpect>4.3 in /usr/local/lib/python3.10/dist-packages (from ipython>=5.0.0->ipykernel->notebook<7,>=6.5->pytezos) (4.9.0)\n",
            "Requirement already satisfied: jupyter-server<3,>=1.8 in /usr/local/lib/python3.10/dist-packages (from notebook-shim>=0.2.3->nbclassic>=0.4.7->notebook<7,>=6.5->pytezos) (1.24.0)\n",
            "Requirement already satisfied: soupsieve>1.2 in /usr/local/lib/python3.10/dist-packages (from beautifulsoup4->nbconvert>=5->notebook<7,>=6.5->pytezos) (2.5)\n",
            "Requirement already satisfied: webencodings in /usr/local/lib/python3.10/dist-packages (from bleach->nbconvert>=5->notebook<7,>=6.5->pytezos) (0.5.1)\n",
            "Requirement already satisfied: parso<0.9.0,>=0.8.3 in /usr/local/lib/python3.10/dist-packages (from jedi>=0.16->ipython>=5.0.0->ipykernel->notebook<7,>=6.5->pytezos) (0.8.4)\n",
            "Requirement already satisfied: anyio<4,>=3.1.0 in /usr/local/lib/python3.10/dist-packages (from jupyter-server<3,>=1.8->notebook-shim>=0.2.3->nbclassic>=0.4.7->notebook<7,>=6.5->pytezos) (3.7.1)\n",
            "Requirement already satisfied: websocket-client in /usr/local/lib/python3.10/dist-packages (from jupyter-server<3,>=1.8->notebook-shim>=0.2.3->nbclassic>=0.4.7->notebook<7,>=6.5->pytezos) (1.8.0)\n",
            "Requirement already satisfied: wcwidth in /usr/local/lib/python3.10/dist-packages (from prompt-toolkit!=3.0.0,!=3.0.1,<3.1.0,>=2.0.0->ipython>=5.0.0->ipykernel->notebook<7,>=6.5->pytezos) (0.2.13)\n",
            "Requirement already satisfied: sniffio>=1.1 in /usr/local/lib/python3.10/dist-packages (from anyio<4,>=3.1.0->jupyter-server<3,>=1.8->notebook-shim>=0.2.3->nbclassic>=0.4.7->notebook<7,>=6.5->pytezos) (1.3.1)\n",
            "Using cached pytezos-3.13.3-py3-none-any.whl (209 kB)\n",
            "Using cached cattrs-23.2.3-py3-none-any.whl (57 kB)\n",
            "Using cached coincurve-20.0.0-cp310-cp310-manylinux_2_17_x86_64.manylinux2014_x86_64.whl (1.2 MB)\n",
            "Using cached deprecation-2.1.0-py2.py3-none-any.whl (11 kB)\n",
            "Using cached docker-7.1.0-py3-none-any.whl (147 kB)\n",
            "Using cached mnemonic-0.21-py3-none-any.whl (92 kB)\n",
            "Using cached ply-3.11-py2.py3-none-any.whl (49 kB)\n",
            "Using cached py_ecc-7.0.1-py3-none-any.whl (43 kB)\n",
            "Using cached simple_bson-0.0.3-py3-none-any.whl (8.0 kB)\n",
            "Using cached simplejson-3.19.3-cp310-cp310-manylinux_2_5_x86_64.manylinux1_x86_64.manylinux_2_17_x86_64.manylinux2014_x86_64.whl (137 kB)\n",
            "Using cached testcontainers-4.8.0-py3-none-any.whl (104 kB)\n",
            "Using cached cached_property-1.5.2-py2.py3-none-any.whl (7.6 kB)\n",
            "Using cached jedi-0.19.1-py2.py3-none-any.whl (1.6 MB)\n",
            "Building wheels for collected packages: fastecdsa\n",
            "  \u001b[1;31merror\u001b[0m: \u001b[1msubprocess-exited-with-error\u001b[0m\n",
            "  \n",
            "  \u001b[31m×\u001b[0m \u001b[32mBuilding wheel for fastecdsa \u001b[0m\u001b[1;32m(\u001b[0m\u001b[32mpyproject.toml\u001b[0m\u001b[1;32m)\u001b[0m did not run successfully.\n",
            "  \u001b[31m│\u001b[0m exit code: \u001b[1;36m1\u001b[0m\n",
            "  \u001b[31m╰─>\u001b[0m See above for output.\n",
            "  \n",
            "  \u001b[1;35mnote\u001b[0m: This error originates from a subprocess, and is likely not a problem with pip.\n",
            "  Building wheel for fastecdsa (pyproject.toml) ... \u001b[?25l\u001b[?25herror\n",
            "\u001b[31m  ERROR: Failed building wheel for fastecdsa\u001b[0m\u001b[31m\n",
            "\u001b[0mFailed to build fastecdsa\n",
            "\u001b[31mERROR: ERROR: Failed to build installable wheels for some pyproject.toml based projects (fastecdsa)\u001b[0m\u001b[31m\n",
            "\u001b[0m"
          ]
        }
      ]
    },
    {
      "cell_type": "code",
      "source": [
        "!pip install pytezos --upgrade"
      ],
      "metadata": {
        "colab": {
          "base_uri": "https://localhost:8080/"
        },
        "outputId": "620f38ff-e4fe-4e0e-9e20-2e24740cd0ad",
        "id": "_YZc42-Kl4tp"
      },
      "execution_count": null,
      "outputs": [
        {
          "output_type": "stream",
          "name": "stdout",
          "text": [
            "Collecting pytezos\n",
            "  Using cached pytezos-3.13.3-py3-none-any.whl.metadata (8.2 kB)\n",
            "Requirement already satisfied: attrs>=21.4.0 in /usr/local/lib/python3.10/dist-packages (from pytezos) (24.2.0)\n",
            "Requirement already satisfied: base58>=2.1.1 in /usr/local/lib/python3.10/dist-packages (from pytezos) (2.1.1)\n",
            "Collecting cattrs>=22.1.0 (from pytezos)\n",
            "  Using cached cattrs-23.2.3-py3-none-any.whl.metadata (10 kB)\n",
            "Requirement already satisfied: click>=8.1.3 in /usr/local/lib/python3.10/dist-packages (from pytezos) (8.1.7)\n",
            "Collecting coincurve>=20.0.0 (from pytezos)\n",
            "  Using cached coincurve-20.0.0-cp310-cp310-manylinux_2_17_x86_64.manylinux2014_x86_64.whl.metadata (4.0 kB)\n",
            "Requirement already satisfied: cryptography>=42.0.4 in /usr/local/lib/python3.10/dist-packages (from pytezos) (42.0.8)\n",
            "Collecting deprecation>=2.1.0 (from pytezos)\n",
            "  Using cached deprecation-2.1.0-py2.py3-none-any.whl.metadata (4.6 kB)\n",
            "Collecting docker>=6.0.0 (from pytezos)\n",
            "  Using cached docker-7.1.0-py3-none-any.whl.metadata (3.8 kB)\n",
            "Collecting fastecdsa>=2.2.3 (from pytezos)\n",
            "  Using cached fastecdsa-2.3.2.tar.gz (47 kB)\n",
            "  Installing build dependencies ... \u001b[?25l\u001b[?25hdone\n",
            "  Getting requirements to build wheel ... \u001b[?25l\u001b[?25hdone\n",
            "  Preparing metadata (pyproject.toml) ... \u001b[?25l\u001b[?25hdone\n",
            "Requirement already satisfied: jsonschema>=4.3.2 in /usr/local/lib/python3.10/dist-packages (from pytezos) (4.23.0)\n",
            "Collecting mnemonic>=0.21 (from pytezos)\n",
            "  Using cached mnemonic-0.21-py3-none-any.whl.metadata (3.4 kB)\n",
            "Collecting netstruct>=1.1.2 (from pytezos)\n",
            "  Using cached netstruct-1.1.2-py3-none-any.whl\n",
            "Requirement already satisfied: notebook<7,>=6.5 in /usr/local/lib/python3.10/dist-packages (from pytezos) (6.5.5)\n",
            "Collecting ply>=3.11 (from pytezos)\n",
            "  Using cached ply-3.11-py2.py3-none-any.whl.metadata (844 bytes)\n",
            "Collecting py-ecc>=7.0.0 (from pytezos)\n",
            "  Using cached py_ecc-7.0.1-py3-none-any.whl.metadata (6.3 kB)\n",
            "Collecting pysodium>=0.7.10 (from pytezos)\n",
            "  Using cached pysodium-0.7.18-py3-none-any.whl\n",
            "Requirement already satisfied: python-dateutil>=2.8.2 in /usr/local/lib/python3.10/dist-packages (from pytezos) (2.8.2)\n",
            "Requirement already satisfied: requests>=2.28.2 in /usr/local/lib/python3.10/dist-packages (from pytezos) (2.32.3)\n",
            "Collecting simple-bson>=0.0.3 (from pytezos)\n",
            "  Using cached simple_bson-0.0.3-py3-none-any.whl.metadata (1.3 kB)\n",
            "Collecting simplejson>=3.17.6 (from pytezos)\n",
            "  Using cached simplejson-3.19.3-cp310-cp310-manylinux_2_5_x86_64.manylinux1_x86_64.manylinux_2_17_x86_64.manylinux2014_x86_64.whl.metadata (3.2 kB)\n",
            "Collecting strict-rfc3339>=0.7 (from pytezos)\n",
            "  Using cached strict_rfc3339-0.7-py3-none-any.whl\n",
            "Requirement already satisfied: tabulate>=0.9.0 in /usr/local/lib/python3.10/dist-packages (from pytezos) (0.9.0)\n",
            "Collecting testcontainers>=3.7.0 (from pytezos)\n",
            "  Using cached testcontainers-4.8.0-py3-none-any.whl.metadata (7.6 kB)\n",
            "Requirement already satisfied: tqdm>=4.62.3 in /usr/local/lib/python3.10/dist-packages (from pytezos) (4.66.5)\n",
            "Requirement already satisfied: exceptiongroup>=1.1.1 in /usr/local/lib/python3.10/dist-packages (from cattrs>=22.1.0->pytezos) (1.2.2)\n",
            "Requirement already satisfied: typing-extensions!=4.6.3,>=4.1.0 in /usr/local/lib/python3.10/dist-packages (from cattrs>=22.1.0->pytezos) (4.12.2)\n",
            "Requirement already satisfied: asn1crypto in /usr/local/lib/python3.10/dist-packages (from coincurve>=20.0.0->pytezos) (1.5.1)\n",
            "Requirement already satisfied: cffi>=1.3.0 in /usr/local/lib/python3.10/dist-packages (from coincurve>=20.0.0->pytezos) (1.17.0)\n",
            "Requirement already satisfied: packaging in /usr/local/lib/python3.10/dist-packages (from deprecation>=2.1.0->pytezos) (24.1)\n",
            "Requirement already satisfied: urllib3>=1.26.0 in /usr/local/lib/python3.10/dist-packages (from docker>=6.0.0->pytezos) (2.0.7)\n",
            "Requirement already satisfied: jsonschema-specifications>=2023.03.6 in /usr/local/lib/python3.10/dist-packages (from jsonschema>=4.3.2->pytezos) (2023.12.1)\n",
            "Requirement already satisfied: referencing>=0.28.4 in /usr/local/lib/python3.10/dist-packages (from jsonschema>=4.3.2->pytezos) (0.35.1)\n",
            "Requirement already satisfied: rpds-py>=0.7.1 in /usr/local/lib/python3.10/dist-packages (from jsonschema>=4.3.2->pytezos) (0.20.0)\n",
            "Requirement already satisfied: jinja2 in /usr/local/lib/python3.10/dist-packages (from notebook<7,>=6.5->pytezos) (3.1.4)\n",
            "Requirement already satisfied: tornado>=6.1 in /usr/local/lib/python3.10/dist-packages (from notebook<7,>=6.5->pytezos) (6.3.3)\n",
            "Requirement already satisfied: pyzmq<25,>=17 in /usr/local/lib/python3.10/dist-packages (from notebook<7,>=6.5->pytezos) (24.0.1)\n",
            "Requirement already satisfied: argon2-cffi in /usr/local/lib/python3.10/dist-packages (from notebook<7,>=6.5->pytezos) (23.1.0)\n",
            "Requirement already satisfied: traitlets>=4.2.1 in /usr/local/lib/python3.10/dist-packages (from notebook<7,>=6.5->pytezos) (5.7.1)\n",
            "Requirement already satisfied: jupyter-core>=4.6.1 in /usr/local/lib/python3.10/dist-packages (from notebook<7,>=6.5->pytezos) (5.7.2)\n",
            "Requirement already satisfied: jupyter-client<8,>=5.3.4 in /usr/local/lib/python3.10/dist-packages (from notebook<7,>=6.5->pytezos) (6.1.12)\n",
            "Requirement already satisfied: ipython-genutils in /usr/local/lib/python3.10/dist-packages (from notebook<7,>=6.5->pytezos) (0.2.0)\n",
            "Requirement already satisfied: nbformat in /usr/local/lib/python3.10/dist-packages (from notebook<7,>=6.5->pytezos) (5.10.4)\n",
            "Requirement already satisfied: nbconvert>=5 in /usr/local/lib/python3.10/dist-packages (from notebook<7,>=6.5->pytezos) (6.5.4)\n",
            "Requirement already satisfied: nest-asyncio>=1.5 in /usr/local/lib/python3.10/dist-packages (from notebook<7,>=6.5->pytezos) (1.6.0)\n",
            "Requirement already satisfied: ipykernel in /usr/local/lib/python3.10/dist-packages (from notebook<7,>=6.5->pytezos) (5.5.6)\n",
            "Requirement already satisfied: Send2Trash>=1.8.0 in /usr/local/lib/python3.10/dist-packages (from notebook<7,>=6.5->pytezos) (1.8.3)\n",
            "Requirement already satisfied: terminado>=0.8.3 in /usr/local/lib/python3.10/dist-packages (from notebook<7,>=6.5->pytezos) (0.18.1)\n",
            "Requirement already satisfied: prometheus-client in /usr/local/lib/python3.10/dist-packages (from notebook<7,>=6.5->pytezos) (0.20.0)\n",
            "Requirement already satisfied: nbclassic>=0.4.7 in /usr/local/lib/python3.10/dist-packages (from notebook<7,>=6.5->pytezos) (1.1.0)\n",
            "Requirement already satisfied: eth-typing>=3.0.0 in /usr/local/lib/python3.10/dist-packages (from py-ecc>=7.0.0->pytezos) (4.4.0)\n",
            "Requirement already satisfied: eth-utils>=2.0.0 in /usr/local/lib/python3.10/dist-packages (from py-ecc>=7.0.0->pytezos) (4.1.1)\n",
            "Collecting cached-property>=1.5.1 (from py-ecc>=7.0.0->pytezos)\n",
            "  Using cached cached_property-1.5.2-py2.py3-none-any.whl.metadata (11 kB)\n",
            "Requirement already satisfied: six>=1.5 in /usr/local/lib/python3.10/dist-packages (from python-dateutil>=2.8.2->pytezos) (1.16.0)\n",
            "Requirement already satisfied: charset-normalizer<4,>=2 in /usr/local/lib/python3.10/dist-packages (from requests>=2.28.2->pytezos) (3.3.2)\n",
            "Requirement already satisfied: idna<4,>=2.5 in /usr/local/lib/python3.10/dist-packages (from requests>=2.28.2->pytezos) (3.7)\n",
            "Requirement already satisfied: certifi>=2017.4.17 in /usr/local/lib/python3.10/dist-packages (from requests>=2.28.2->pytezos) (2024.7.4)\n",
            "Requirement already satisfied: wrapt in /usr/local/lib/python3.10/dist-packages (from testcontainers>=3.7.0->pytezos) (1.16.0)\n",
            "Requirement already satisfied: pycparser in /usr/local/lib/python3.10/dist-packages (from cffi>=1.3.0->coincurve>=20.0.0->pytezos) (2.22)\n",
            "Requirement already satisfied: eth-hash>=0.3.1 in /usr/local/lib/python3.10/dist-packages (from eth-utils>=2.0.0->py-ecc>=7.0.0->pytezos) (0.7.0)\n",
            "Requirement already satisfied: cytoolz>=0.10.1 in /usr/local/lib/python3.10/dist-packages (from eth-utils>=2.0.0->py-ecc>=7.0.0->pytezos) (0.12.3)\n",
            "Requirement already satisfied: platformdirs>=2.5 in /usr/local/lib/python3.10/dist-packages (from jupyter-core>=4.6.1->notebook<7,>=6.5->pytezos) (4.2.2)\n",
            "Requirement already satisfied: notebook-shim>=0.2.3 in /usr/local/lib/python3.10/dist-packages (from nbclassic>=0.4.7->notebook<7,>=6.5->pytezos) (0.2.4)\n",
            "Requirement already satisfied: lxml in /usr/local/lib/python3.10/dist-packages (from nbconvert>=5->notebook<7,>=6.5->pytezos) (4.9.4)\n",
            "Requirement already satisfied: beautifulsoup4 in /usr/local/lib/python3.10/dist-packages (from nbconvert>=5->notebook<7,>=6.5->pytezos) (4.12.3)\n",
            "Requirement already satisfied: bleach in /usr/local/lib/python3.10/dist-packages (from nbconvert>=5->notebook<7,>=6.5->pytezos) (6.1.0)\n",
            "Requirement already satisfied: defusedxml in /usr/local/lib/python3.10/dist-packages (from nbconvert>=5->notebook<7,>=6.5->pytezos) (0.7.1)\n",
            "Requirement already satisfied: entrypoints>=0.2.2 in /usr/local/lib/python3.10/dist-packages (from nbconvert>=5->notebook<7,>=6.5->pytezos) (0.4)\n",
            "Requirement already satisfied: jupyterlab-pygments in /usr/local/lib/python3.10/dist-packages (from nbconvert>=5->notebook<7,>=6.5->pytezos) (0.3.0)\n",
            "Requirement already satisfied: MarkupSafe>=2.0 in /usr/local/lib/python3.10/dist-packages (from nbconvert>=5->notebook<7,>=6.5->pytezos) (2.1.5)\n",
            "Requirement already satisfied: mistune<2,>=0.8.1 in /usr/local/lib/python3.10/dist-packages (from nbconvert>=5->notebook<7,>=6.5->pytezos) (0.8.4)\n",
            "Requirement already satisfied: nbclient>=0.5.0 in /usr/local/lib/python3.10/dist-packages (from nbconvert>=5->notebook<7,>=6.5->pytezos) (0.10.0)\n",
            "Requirement already satisfied: pandocfilters>=1.4.1 in /usr/local/lib/python3.10/dist-packages (from nbconvert>=5->notebook<7,>=6.5->pytezos) (1.5.1)\n",
            "Requirement already satisfied: pygments>=2.4.1 in /usr/local/lib/python3.10/dist-packages (from nbconvert>=5->notebook<7,>=6.5->pytezos) (2.16.1)\n",
            "Requirement already satisfied: tinycss2 in /usr/local/lib/python3.10/dist-packages (from nbconvert>=5->notebook<7,>=6.5->pytezos) (1.3.0)\n",
            "Requirement already satisfied: fastjsonschema>=2.15 in /usr/local/lib/python3.10/dist-packages (from nbformat->notebook<7,>=6.5->pytezos) (2.20.0)\n",
            "Requirement already satisfied: ptyprocess in /usr/local/lib/python3.10/dist-packages (from terminado>=0.8.3->notebook<7,>=6.5->pytezos) (0.7.0)\n",
            "Requirement already satisfied: argon2-cffi-bindings in /usr/local/lib/python3.10/dist-packages (from argon2-cffi->notebook<7,>=6.5->pytezos) (21.2.0)\n",
            "Requirement already satisfied: ipython>=5.0.0 in /usr/local/lib/python3.10/dist-packages (from ipykernel->notebook<7,>=6.5->pytezos) (7.34.0)\n",
            "Requirement already satisfied: toolz>=0.8.0 in /usr/local/lib/python3.10/dist-packages (from cytoolz>=0.10.1->eth-utils>=2.0.0->py-ecc>=7.0.0->pytezos) (0.12.1)\n",
            "Requirement already satisfied: setuptools>=18.5 in /usr/local/lib/python3.10/dist-packages (from ipython>=5.0.0->ipykernel->notebook<7,>=6.5->pytezos) (71.0.4)\n",
            "Collecting jedi>=0.16 (from ipython>=5.0.0->ipykernel->notebook<7,>=6.5->pytezos)\n",
            "  Using cached jedi-0.19.1-py2.py3-none-any.whl.metadata (22 kB)\n",
            "Requirement already satisfied: decorator in /usr/local/lib/python3.10/dist-packages (from ipython>=5.0.0->ipykernel->notebook<7,>=6.5->pytezos) (4.4.2)\n",
            "Requirement already satisfied: pickleshare in /usr/local/lib/python3.10/dist-packages (from ipython>=5.0.0->ipykernel->notebook<7,>=6.5->pytezos) (0.7.5)\n",
            "Requirement already satisfied: prompt-toolkit!=3.0.0,!=3.0.1,<3.1.0,>=2.0.0 in /usr/local/lib/python3.10/dist-packages (from ipython>=5.0.0->ipykernel->notebook<7,>=6.5->pytezos) (3.0.47)\n",
            "Requirement already satisfied: backcall in /usr/local/lib/python3.10/dist-packages (from ipython>=5.0.0->ipykernel->notebook<7,>=6.5->pytezos) (0.2.0)\n",
            "Requirement already satisfied: matplotlib-inline in /usr/local/lib/python3.10/dist-packages (from ipython>=5.0.0->ipykernel->notebook<7,>=6.5->pytezos) (0.1.7)\n",
            "Requirement already satisfied: pexpect>4.3 in /usr/local/lib/python3.10/dist-packages (from ipython>=5.0.0->ipykernel->notebook<7,>=6.5->pytezos) (4.9.0)\n",
            "Requirement already satisfied: jupyter-server<3,>=1.8 in /usr/local/lib/python3.10/dist-packages (from notebook-shim>=0.2.3->nbclassic>=0.4.7->notebook<7,>=6.5->pytezos) (1.24.0)\n",
            "Requirement already satisfied: soupsieve>1.2 in /usr/local/lib/python3.10/dist-packages (from beautifulsoup4->nbconvert>=5->notebook<7,>=6.5->pytezos) (2.5)\n",
            "Requirement already satisfied: webencodings in /usr/local/lib/python3.10/dist-packages (from bleach->nbconvert>=5->notebook<7,>=6.5->pytezos) (0.5.1)\n",
            "Requirement already satisfied: parso<0.9.0,>=0.8.3 in /usr/local/lib/python3.10/dist-packages (from jedi>=0.16->ipython>=5.0.0->ipykernel->notebook<7,>=6.5->pytezos) (0.8.4)\n",
            "Requirement already satisfied: anyio<4,>=3.1.0 in /usr/local/lib/python3.10/dist-packages (from jupyter-server<3,>=1.8->notebook-shim>=0.2.3->nbclassic>=0.4.7->notebook<7,>=6.5->pytezos) (3.7.1)\n",
            "Requirement already satisfied: websocket-client in /usr/local/lib/python3.10/dist-packages (from jupyter-server<3,>=1.8->notebook-shim>=0.2.3->nbclassic>=0.4.7->notebook<7,>=6.5->pytezos) (1.8.0)\n",
            "Requirement already satisfied: wcwidth in /usr/local/lib/python3.10/dist-packages (from prompt-toolkit!=3.0.0,!=3.0.1,<3.1.0,>=2.0.0->ipython>=5.0.0->ipykernel->notebook<7,>=6.5->pytezos) (0.2.13)\n",
            "Requirement already satisfied: sniffio>=1.1 in /usr/local/lib/python3.10/dist-packages (from anyio<4,>=3.1.0->jupyter-server<3,>=1.8->notebook-shim>=0.2.3->nbclassic>=0.4.7->notebook<7,>=6.5->pytezos) (1.3.1)\n",
            "Using cached pytezos-3.13.3-py3-none-any.whl (209 kB)\n",
            "Using cached cattrs-23.2.3-py3-none-any.whl (57 kB)\n",
            "Using cached coincurve-20.0.0-cp310-cp310-manylinux_2_17_x86_64.manylinux2014_x86_64.whl (1.2 MB)\n",
            "Using cached deprecation-2.1.0-py2.py3-none-any.whl (11 kB)\n",
            "Using cached docker-7.1.0-py3-none-any.whl (147 kB)\n",
            "Using cached mnemonic-0.21-py3-none-any.whl (92 kB)\n",
            "Using cached ply-3.11-py2.py3-none-any.whl (49 kB)\n",
            "Using cached py_ecc-7.0.1-py3-none-any.whl (43 kB)\n",
            "Using cached simple_bson-0.0.3-py3-none-any.whl (8.0 kB)\n",
            "Using cached simplejson-3.19.3-cp310-cp310-manylinux_2_5_x86_64.manylinux1_x86_64.manylinux_2_17_x86_64.manylinux2014_x86_64.whl (137 kB)\n",
            "Using cached testcontainers-4.8.0-py3-none-any.whl (104 kB)\n",
            "Using cached cached_property-1.5.2-py2.py3-none-any.whl (7.6 kB)\n",
            "Using cached jedi-0.19.1-py2.py3-none-any.whl (1.6 MB)\n",
            "Building wheels for collected packages: fastecdsa\n",
            "  \u001b[1;31merror\u001b[0m: \u001b[1msubprocess-exited-with-error\u001b[0m\n",
            "  \n",
            "  \u001b[31m×\u001b[0m \u001b[32mBuilding wheel for fastecdsa \u001b[0m\u001b[1;32m(\u001b[0m\u001b[32mpyproject.toml\u001b[0m\u001b[1;32m)\u001b[0m did not run successfully.\n",
            "  \u001b[31m│\u001b[0m exit code: \u001b[1;36m1\u001b[0m\n",
            "  \u001b[31m╰─>\u001b[0m See above for output.\n",
            "  \n",
            "  \u001b[1;35mnote\u001b[0m: This error originates from a subprocess, and is likely not a problem with pip.\n",
            "  Building wheel for fastecdsa (pyproject.toml) ... \u001b[?25l\u001b[?25herror\n",
            "\u001b[31m  ERROR: Failed building wheel for fastecdsa\u001b[0m\u001b[31m\n",
            "\u001b[0mFailed to build fastecdsa\n",
            "\u001b[31mERROR: ERROR: Failed to build installable wheels for some pyproject.toml based projects (fastecdsa)\u001b[0m\u001b[31m\n",
            "\u001b[0m"
          ]
        }
      ]
    },
    {
      "cell_type": "code",
      "source": [
        "!pip install pytezos --upgrade"
      ],
      "metadata": {
        "colab": {
          "base_uri": "https://localhost:8080/"
        },
        "id": "R4NFkE0rjSXF",
        "outputId": "238bacac-22af-4831-e8ad-e37673c6be52"
      },
      "execution_count": null,
      "outputs": [
        {
          "output_type": "stream",
          "name": "stdout",
          "text": [
            "Collecting pytezos\n",
            "  Using cached pytezos-3.13.3-py3-none-any.whl.metadata (8.2 kB)\n",
            "Requirement already satisfied: attrs>=21.4.0 in /usr/local/lib/python3.10/dist-packages (from pytezos) (24.2.0)\n",
            "Requirement already satisfied: base58>=2.1.1 in /usr/local/lib/python3.10/dist-packages (from pytezos) (2.1.1)\n",
            "Collecting cattrs>=22.1.0 (from pytezos)\n",
            "  Using cached cattrs-23.2.3-py3-none-any.whl.metadata (10 kB)\n",
            "Requirement already satisfied: click>=8.1.3 in /usr/local/lib/python3.10/dist-packages (from pytezos) (8.1.7)\n",
            "Collecting coincurve>=20.0.0 (from pytezos)\n",
            "  Using cached coincurve-20.0.0-cp310-cp310-manylinux_2_17_x86_64.manylinux2014_x86_64.whl.metadata (4.0 kB)\n",
            "Requirement already satisfied: cryptography>=42.0.4 in /usr/local/lib/python3.10/dist-packages (from pytezos) (42.0.8)\n",
            "Collecting deprecation>=2.1.0 (from pytezos)\n",
            "  Using cached deprecation-2.1.0-py2.py3-none-any.whl.metadata (4.6 kB)\n",
            "Collecting docker>=6.0.0 (from pytezos)\n",
            "  Using cached docker-7.1.0-py3-none-any.whl.metadata (3.8 kB)\n",
            "Collecting fastecdsa>=2.2.3 (from pytezos)\n",
            "  Using cached fastecdsa-2.3.2.tar.gz (47 kB)\n",
            "  Installing build dependencies ... \u001b[?25l\u001b[?25hdone\n",
            "  Getting requirements to build wheel ... \u001b[?25l\u001b[?25hdone\n",
            "  Preparing metadata (pyproject.toml) ... \u001b[?25l\u001b[?25hdone\n",
            "Requirement already satisfied: jsonschema>=4.3.2 in /usr/local/lib/python3.10/dist-packages (from pytezos) (4.23.0)\n",
            "Collecting mnemonic>=0.21 (from pytezos)\n",
            "  Using cached mnemonic-0.21-py3-none-any.whl.metadata (3.4 kB)\n",
            "Collecting netstruct>=1.1.2 (from pytezos)\n",
            "  Using cached netstruct-1.1.2-py3-none-any.whl\n",
            "Requirement already satisfied: notebook<7,>=6.5 in /usr/local/lib/python3.10/dist-packages (from pytezos) (6.5.5)\n",
            "Collecting ply>=3.11 (from pytezos)\n",
            "  Using cached ply-3.11-py2.py3-none-any.whl.metadata (844 bytes)\n",
            "Collecting py-ecc>=7.0.0 (from pytezos)\n",
            "  Using cached py_ecc-7.0.1-py3-none-any.whl.metadata (6.3 kB)\n",
            "Collecting pysodium>=0.7.10 (from pytezos)\n",
            "  Using cached pysodium-0.7.18-py3-none-any.whl\n",
            "Requirement already satisfied: python-dateutil>=2.8.2 in /usr/local/lib/python3.10/dist-packages (from pytezos) (2.8.2)\n",
            "Requirement already satisfied: requests>=2.28.2 in /usr/local/lib/python3.10/dist-packages (from pytezos) (2.32.3)\n",
            "Collecting simple-bson>=0.0.3 (from pytezos)\n",
            "  Using cached simple_bson-0.0.3-py3-none-any.whl.metadata (1.3 kB)\n",
            "Collecting simplejson>=3.17.6 (from pytezos)\n",
            "  Using cached simplejson-3.19.3-cp310-cp310-manylinux_2_5_x86_64.manylinux1_x86_64.manylinux_2_17_x86_64.manylinux2014_x86_64.whl.metadata (3.2 kB)\n",
            "Collecting strict-rfc3339>=0.7 (from pytezos)\n",
            "  Using cached strict_rfc3339-0.7-py3-none-any.whl\n",
            "Requirement already satisfied: tabulate>=0.9.0 in /usr/local/lib/python3.10/dist-packages (from pytezos) (0.9.0)\n",
            "Collecting testcontainers>=3.7.0 (from pytezos)\n",
            "  Using cached testcontainers-4.8.0-py3-none-any.whl.metadata (7.6 kB)\n",
            "Requirement already satisfied: tqdm>=4.62.3 in /usr/local/lib/python3.10/dist-packages (from pytezos) (4.66.5)\n",
            "Requirement already satisfied: exceptiongroup>=1.1.1 in /usr/local/lib/python3.10/dist-packages (from cattrs>=22.1.0->pytezos) (1.2.2)\n",
            "Requirement already satisfied: typing-extensions!=4.6.3,>=4.1.0 in /usr/local/lib/python3.10/dist-packages (from cattrs>=22.1.0->pytezos) (4.12.2)\n",
            "Requirement already satisfied: asn1crypto in /usr/local/lib/python3.10/dist-packages (from coincurve>=20.0.0->pytezos) (1.5.1)\n",
            "Requirement already satisfied: cffi>=1.3.0 in /usr/local/lib/python3.10/dist-packages (from coincurve>=20.0.0->pytezos) (1.17.0)\n",
            "Requirement already satisfied: packaging in /usr/local/lib/python3.10/dist-packages (from deprecation>=2.1.0->pytezos) (24.1)\n",
            "Requirement already satisfied: urllib3>=1.26.0 in /usr/local/lib/python3.10/dist-packages (from docker>=6.0.0->pytezos) (2.0.7)\n",
            "Requirement already satisfied: jsonschema-specifications>=2023.03.6 in /usr/local/lib/python3.10/dist-packages (from jsonschema>=4.3.2->pytezos) (2023.12.1)\n",
            "Requirement already satisfied: referencing>=0.28.4 in /usr/local/lib/python3.10/dist-packages (from jsonschema>=4.3.2->pytezos) (0.35.1)\n",
            "Requirement already satisfied: rpds-py>=0.7.1 in /usr/local/lib/python3.10/dist-packages (from jsonschema>=4.3.2->pytezos) (0.20.0)\n",
            "Requirement already satisfied: jinja2 in /usr/local/lib/python3.10/dist-packages (from notebook<7,>=6.5->pytezos) (3.1.4)\n",
            "Requirement already satisfied: tornado>=6.1 in /usr/local/lib/python3.10/dist-packages (from notebook<7,>=6.5->pytezos) (6.3.3)\n",
            "Requirement already satisfied: pyzmq<25,>=17 in /usr/local/lib/python3.10/dist-packages (from notebook<7,>=6.5->pytezos) (24.0.1)\n",
            "Requirement already satisfied: argon2-cffi in /usr/local/lib/python3.10/dist-packages (from notebook<7,>=6.5->pytezos) (23.1.0)\n",
            "Requirement already satisfied: traitlets>=4.2.1 in /usr/local/lib/python3.10/dist-packages (from notebook<7,>=6.5->pytezos) (5.7.1)\n",
            "Requirement already satisfied: jupyter-core>=4.6.1 in /usr/local/lib/python3.10/dist-packages (from notebook<7,>=6.5->pytezos) (5.7.2)\n",
            "Requirement already satisfied: jupyter-client<8,>=5.3.4 in /usr/local/lib/python3.10/dist-packages (from notebook<7,>=6.5->pytezos) (6.1.12)\n",
            "Requirement already satisfied: ipython-genutils in /usr/local/lib/python3.10/dist-packages (from notebook<7,>=6.5->pytezos) (0.2.0)\n",
            "Requirement already satisfied: nbformat in /usr/local/lib/python3.10/dist-packages (from notebook<7,>=6.5->pytezos) (5.10.4)\n",
            "Requirement already satisfied: nbconvert>=5 in /usr/local/lib/python3.10/dist-packages (from notebook<7,>=6.5->pytezos) (6.5.4)\n",
            "Requirement already satisfied: nest-asyncio>=1.5 in /usr/local/lib/python3.10/dist-packages (from notebook<7,>=6.5->pytezos) (1.6.0)\n",
            "Requirement already satisfied: ipykernel in /usr/local/lib/python3.10/dist-packages (from notebook<7,>=6.5->pytezos) (5.5.6)\n",
            "Requirement already satisfied: Send2Trash>=1.8.0 in /usr/local/lib/python3.10/dist-packages (from notebook<7,>=6.5->pytezos) (1.8.3)\n",
            "Requirement already satisfied: terminado>=0.8.3 in /usr/local/lib/python3.10/dist-packages (from notebook<7,>=6.5->pytezos) (0.18.1)\n",
            "Requirement already satisfied: prometheus-client in /usr/local/lib/python3.10/dist-packages (from notebook<7,>=6.5->pytezos) (0.20.0)\n",
            "Requirement already satisfied: nbclassic>=0.4.7 in /usr/local/lib/python3.10/dist-packages (from notebook<7,>=6.5->pytezos) (1.1.0)\n",
            "Requirement already satisfied: eth-typing>=3.0.0 in /usr/local/lib/python3.10/dist-packages (from py-ecc>=7.0.0->pytezos) (4.4.0)\n",
            "Requirement already satisfied: eth-utils>=2.0.0 in /usr/local/lib/python3.10/dist-packages (from py-ecc>=7.0.0->pytezos) (4.1.1)\n",
            "Collecting cached-property>=1.5.1 (from py-ecc>=7.0.0->pytezos)\n",
            "  Using cached cached_property-1.5.2-py2.py3-none-any.whl.metadata (11 kB)\n",
            "Requirement already satisfied: six>=1.5 in /usr/local/lib/python3.10/dist-packages (from python-dateutil>=2.8.2->pytezos) (1.16.0)\n",
            "Requirement already satisfied: charset-normalizer<4,>=2 in /usr/local/lib/python3.10/dist-packages (from requests>=2.28.2->pytezos) (3.3.2)\n",
            "Requirement already satisfied: idna<4,>=2.5 in /usr/local/lib/python3.10/dist-packages (from requests>=2.28.2->pytezos) (3.7)\n",
            "Requirement already satisfied: certifi>=2017.4.17 in /usr/local/lib/python3.10/dist-packages (from requests>=2.28.2->pytezos) (2024.7.4)\n",
            "Requirement already satisfied: wrapt in /usr/local/lib/python3.10/dist-packages (from testcontainers>=3.7.0->pytezos) (1.16.0)\n",
            "Requirement already satisfied: pycparser in /usr/local/lib/python3.10/dist-packages (from cffi>=1.3.0->coincurve>=20.0.0->pytezos) (2.22)\n",
            "Requirement already satisfied: eth-hash>=0.3.1 in /usr/local/lib/python3.10/dist-packages (from eth-utils>=2.0.0->py-ecc>=7.0.0->pytezos) (0.7.0)\n",
            "Requirement already satisfied: cytoolz>=0.10.1 in /usr/local/lib/python3.10/dist-packages (from eth-utils>=2.0.0->py-ecc>=7.0.0->pytezos) (0.12.3)\n",
            "Requirement already satisfied: platformdirs>=2.5 in /usr/local/lib/python3.10/dist-packages (from jupyter-core>=4.6.1->notebook<7,>=6.5->pytezos) (4.2.2)\n",
            "Requirement already satisfied: notebook-shim>=0.2.3 in /usr/local/lib/python3.10/dist-packages (from nbclassic>=0.4.7->notebook<7,>=6.5->pytezos) (0.2.4)\n",
            "Requirement already satisfied: lxml in /usr/local/lib/python3.10/dist-packages (from nbconvert>=5->notebook<7,>=6.5->pytezos) (4.9.4)\n",
            "Requirement already satisfied: beautifulsoup4 in /usr/local/lib/python3.10/dist-packages (from nbconvert>=5->notebook<7,>=6.5->pytezos) (4.12.3)\n",
            "Requirement already satisfied: bleach in /usr/local/lib/python3.10/dist-packages (from nbconvert>=5->notebook<7,>=6.5->pytezos) (6.1.0)\n",
            "Requirement already satisfied: defusedxml in /usr/local/lib/python3.10/dist-packages (from nbconvert>=5->notebook<7,>=6.5->pytezos) (0.7.1)\n",
            "Requirement already satisfied: entrypoints>=0.2.2 in /usr/local/lib/python3.10/dist-packages (from nbconvert>=5->notebook<7,>=6.5->pytezos) (0.4)\n",
            "Requirement already satisfied: jupyterlab-pygments in /usr/local/lib/python3.10/dist-packages (from nbconvert>=5->notebook<7,>=6.5->pytezos) (0.3.0)\n",
            "Requirement already satisfied: MarkupSafe>=2.0 in /usr/local/lib/python3.10/dist-packages (from nbconvert>=5->notebook<7,>=6.5->pytezos) (2.1.5)\n",
            "Requirement already satisfied: mistune<2,>=0.8.1 in /usr/local/lib/python3.10/dist-packages (from nbconvert>=5->notebook<7,>=6.5->pytezos) (0.8.4)\n",
            "Requirement already satisfied: nbclient>=0.5.0 in /usr/local/lib/python3.10/dist-packages (from nbconvert>=5->notebook<7,>=6.5->pytezos) (0.10.0)\n",
            "Requirement already satisfied: pandocfilters>=1.4.1 in /usr/local/lib/python3.10/dist-packages (from nbconvert>=5->notebook<7,>=6.5->pytezos) (1.5.1)\n",
            "Requirement already satisfied: pygments>=2.4.1 in /usr/local/lib/python3.10/dist-packages (from nbconvert>=5->notebook<7,>=6.5->pytezos) (2.16.1)\n",
            "Requirement already satisfied: tinycss2 in /usr/local/lib/python3.10/dist-packages (from nbconvert>=5->notebook<7,>=6.5->pytezos) (1.3.0)\n",
            "Requirement already satisfied: fastjsonschema>=2.15 in /usr/local/lib/python3.10/dist-packages (from nbformat->notebook<7,>=6.5->pytezos) (2.20.0)\n",
            "Requirement already satisfied: ptyprocess in /usr/local/lib/python3.10/dist-packages (from terminado>=0.8.3->notebook<7,>=6.5->pytezos) (0.7.0)\n",
            "Requirement already satisfied: argon2-cffi-bindings in /usr/local/lib/python3.10/dist-packages (from argon2-cffi->notebook<7,>=6.5->pytezos) (21.2.0)\n",
            "Requirement already satisfied: ipython>=5.0.0 in /usr/local/lib/python3.10/dist-packages (from ipykernel->notebook<7,>=6.5->pytezos) (7.34.0)\n",
            "Requirement already satisfied: toolz>=0.8.0 in /usr/local/lib/python3.10/dist-packages (from cytoolz>=0.10.1->eth-utils>=2.0.0->py-ecc>=7.0.0->pytezos) (0.12.1)\n",
            "Requirement already satisfied: setuptools>=18.5 in /usr/local/lib/python3.10/dist-packages (from ipython>=5.0.0->ipykernel->notebook<7,>=6.5->pytezos) (71.0.4)\n",
            "Collecting jedi>=0.16 (from ipython>=5.0.0->ipykernel->notebook<7,>=6.5->pytezos)\n",
            "  Using cached jedi-0.19.1-py2.py3-none-any.whl.metadata (22 kB)\n",
            "Requirement already satisfied: decorator in /usr/local/lib/python3.10/dist-packages (from ipython>=5.0.0->ipykernel->notebook<7,>=6.5->pytezos) (4.4.2)\n",
            "Requirement already satisfied: pickleshare in /usr/local/lib/python3.10/dist-packages (from ipython>=5.0.0->ipykernel->notebook<7,>=6.5->pytezos) (0.7.5)\n",
            "Requirement already satisfied: prompt-toolkit!=3.0.0,!=3.0.1,<3.1.0,>=2.0.0 in /usr/local/lib/python3.10/dist-packages (from ipython>=5.0.0->ipykernel->notebook<7,>=6.5->pytezos) (3.0.47)\n",
            "Requirement already satisfied: backcall in /usr/local/lib/python3.10/dist-packages (from ipython>=5.0.0->ipykernel->notebook<7,>=6.5->pytezos) (0.2.0)\n",
            "Requirement already satisfied: matplotlib-inline in /usr/local/lib/python3.10/dist-packages (from ipython>=5.0.0->ipykernel->notebook<7,>=6.5->pytezos) (0.1.7)\n",
            "Requirement already satisfied: pexpect>4.3 in /usr/local/lib/python3.10/dist-packages (from ipython>=5.0.0->ipykernel->notebook<7,>=6.5->pytezos) (4.9.0)\n",
            "Requirement already satisfied: jupyter-server<3,>=1.8 in /usr/local/lib/python3.10/dist-packages (from notebook-shim>=0.2.3->nbclassic>=0.4.7->notebook<7,>=6.5->pytezos) (1.24.0)\n",
            "Requirement already satisfied: soupsieve>1.2 in /usr/local/lib/python3.10/dist-packages (from beautifulsoup4->nbconvert>=5->notebook<7,>=6.5->pytezos) (2.5)\n",
            "Requirement already satisfied: webencodings in /usr/local/lib/python3.10/dist-packages (from bleach->nbconvert>=5->notebook<7,>=6.5->pytezos) (0.5.1)\n",
            "Requirement already satisfied: parso<0.9.0,>=0.8.3 in /usr/local/lib/python3.10/dist-packages (from jedi>=0.16->ipython>=5.0.0->ipykernel->notebook<7,>=6.5->pytezos) (0.8.4)\n",
            "Requirement already satisfied: anyio<4,>=3.1.0 in /usr/local/lib/python3.10/dist-packages (from jupyter-server<3,>=1.8->notebook-shim>=0.2.3->nbclassic>=0.4.7->notebook<7,>=6.5->pytezos) (3.7.1)\n",
            "Requirement already satisfied: websocket-client in /usr/local/lib/python3.10/dist-packages (from jupyter-server<3,>=1.8->notebook-shim>=0.2.3->nbclassic>=0.4.7->notebook<7,>=6.5->pytezos) (1.8.0)\n",
            "Requirement already satisfied: wcwidth in /usr/local/lib/python3.10/dist-packages (from prompt-toolkit!=3.0.0,!=3.0.1,<3.1.0,>=2.0.0->ipython>=5.0.0->ipykernel->notebook<7,>=6.5->pytezos) (0.2.13)\n",
            "Requirement already satisfied: sniffio>=1.1 in /usr/local/lib/python3.10/dist-packages (from anyio<4,>=3.1.0->jupyter-server<3,>=1.8->notebook-shim>=0.2.3->nbclassic>=0.4.7->notebook<7,>=6.5->pytezos) (1.3.1)\n",
            "Using cached pytezos-3.13.3-py3-none-any.whl (209 kB)\n",
            "Using cached cattrs-23.2.3-py3-none-any.whl (57 kB)\n",
            "Using cached coincurve-20.0.0-cp310-cp310-manylinux_2_17_x86_64.manylinux2014_x86_64.whl (1.2 MB)\n",
            "Using cached deprecation-2.1.0-py2.py3-none-any.whl (11 kB)\n",
            "Using cached docker-7.1.0-py3-none-any.whl (147 kB)\n",
            "Using cached mnemonic-0.21-py3-none-any.whl (92 kB)\n",
            "Using cached ply-3.11-py2.py3-none-any.whl (49 kB)\n",
            "Using cached py_ecc-7.0.1-py3-none-any.whl (43 kB)\n",
            "Using cached simple_bson-0.0.3-py3-none-any.whl (8.0 kB)\n",
            "Using cached simplejson-3.19.3-cp310-cp310-manylinux_2_5_x86_64.manylinux1_x86_64.manylinux_2_17_x86_64.manylinux2014_x86_64.whl (137 kB)\n",
            "Using cached testcontainers-4.8.0-py3-none-any.whl (104 kB)\n",
            "Using cached cached_property-1.5.2-py2.py3-none-any.whl (7.6 kB)\n",
            "Using cached jedi-0.19.1-py2.py3-none-any.whl (1.6 MB)\n",
            "Building wheels for collected packages: fastecdsa\n",
            "  \u001b[1;31merror\u001b[0m: \u001b[1msubprocess-exited-with-error\u001b[0m\n",
            "  \n",
            "  \u001b[31m×\u001b[0m \u001b[32mBuilding wheel for fastecdsa \u001b[0m\u001b[1;32m(\u001b[0m\u001b[32mpyproject.toml\u001b[0m\u001b[1;32m)\u001b[0m did not run successfully.\n",
            "  \u001b[31m│\u001b[0m exit code: \u001b[1;36m1\u001b[0m\n",
            "  \u001b[31m╰─>\u001b[0m See above for output.\n",
            "  \n",
            "  \u001b[1;35mnote\u001b[0m: This error originates from a subprocess, and is likely not a problem with pip.\n",
            "  Building wheel for fastecdsa (pyproject.toml) ... \u001b[?25l\u001b[?25herror\n",
            "\u001b[31m  ERROR: Failed building wheel for fastecdsa\u001b[0m\u001b[31m\n",
            "\u001b[0mFailed to build fastecdsa\n",
            "\u001b[31mERROR: ERROR: Failed to build installable wheels for some pyproject.toml based projects (fastecdsa)\u001b[0m\u001b[31m\n",
            "\u001b[0m"
          ]
        }
      ]
    },
    {
      "cell_type": "code",
      "source": [
        "!pip install pytezos --upgrade"
      ],
      "metadata": {
        "colab": {
          "base_uri": "https://localhost:8080/"
        },
        "outputId": "a0922b73-aff0-4ddc-89bd-fa9d45bb57d1",
        "id": "npvtngSjlDCS"
      },
      "execution_count": null,
      "outputs": [
        {
          "output_type": "stream",
          "name": "stdout",
          "text": [
            "Collecting pytezos\n",
            "  Using cached pytezos-3.13.3-py3-none-any.whl.metadata (8.2 kB)\n",
            "Requirement already satisfied: attrs>=21.4.0 in /usr/local/lib/python3.10/dist-packages (from pytezos) (24.2.0)\n",
            "Requirement already satisfied: base58>=2.1.1 in /usr/local/lib/python3.10/dist-packages (from pytezos) (2.1.1)\n",
            "Collecting cattrs>=22.1.0 (from pytezos)\n",
            "  Using cached cattrs-23.2.3-py3-none-any.whl.metadata (10 kB)\n",
            "Requirement already satisfied: click>=8.1.3 in /usr/local/lib/python3.10/dist-packages (from pytezos) (8.1.7)\n",
            "Collecting coincurve>=20.0.0 (from pytezos)\n",
            "  Using cached coincurve-20.0.0-cp310-cp310-manylinux_2_17_x86_64.manylinux2014_x86_64.whl.metadata (4.0 kB)\n",
            "Requirement already satisfied: cryptography>=42.0.4 in /usr/local/lib/python3.10/dist-packages (from pytezos) (42.0.8)\n",
            "Collecting deprecation>=2.1.0 (from pytezos)\n",
            "  Using cached deprecation-2.1.0-py2.py3-none-any.whl.metadata (4.6 kB)\n",
            "Collecting docker>=6.0.0 (from pytezos)\n",
            "  Using cached docker-7.1.0-py3-none-any.whl.metadata (3.8 kB)\n",
            "Collecting fastecdsa>=2.2.3 (from pytezos)\n",
            "  Using cached fastecdsa-2.3.2.tar.gz (47 kB)\n",
            "  Installing build dependencies ... \u001b[?25l\u001b[?25hdone\n",
            "  Getting requirements to build wheel ... \u001b[?25l\u001b[?25hdone\n",
            "  Preparing metadata (pyproject.toml) ... \u001b[?25l\u001b[?25hdone\n",
            "Requirement already satisfied: jsonschema>=4.3.2 in /usr/local/lib/python3.10/dist-packages (from pytezos) (4.23.0)\n",
            "Collecting mnemonic>=0.21 (from pytezos)\n",
            "  Using cached mnemonic-0.21-py3-none-any.whl.metadata (3.4 kB)\n",
            "Collecting netstruct>=1.1.2 (from pytezos)\n",
            "  Using cached netstruct-1.1.2-py3-none-any.whl\n",
            "Requirement already satisfied: notebook<7,>=6.5 in /usr/local/lib/python3.10/dist-packages (from pytezos) (6.5.5)\n",
            "Collecting ply>=3.11 (from pytezos)\n",
            "  Using cached ply-3.11-py2.py3-none-any.whl.metadata (844 bytes)\n",
            "Collecting py-ecc>=7.0.0 (from pytezos)\n",
            "  Using cached py_ecc-7.0.1-py3-none-any.whl.metadata (6.3 kB)\n",
            "Collecting pysodium>=0.7.10 (from pytezos)\n",
            "  Using cached pysodium-0.7.18-py3-none-any.whl\n",
            "Requirement already satisfied: python-dateutil>=2.8.2 in /usr/local/lib/python3.10/dist-packages (from pytezos) (2.8.2)\n",
            "Requirement already satisfied: requests>=2.28.2 in /usr/local/lib/python3.10/dist-packages (from pytezos) (2.32.3)\n",
            "Collecting simple-bson>=0.0.3 (from pytezos)\n",
            "  Using cached simple_bson-0.0.3-py3-none-any.whl.metadata (1.3 kB)\n",
            "Collecting simplejson>=3.17.6 (from pytezos)\n",
            "  Using cached simplejson-3.19.3-cp310-cp310-manylinux_2_5_x86_64.manylinux1_x86_64.manylinux_2_17_x86_64.manylinux2014_x86_64.whl.metadata (3.2 kB)\n",
            "Collecting strict-rfc3339>=0.7 (from pytezos)\n",
            "  Using cached strict_rfc3339-0.7-py3-none-any.whl\n",
            "Requirement already satisfied: tabulate>=0.9.0 in /usr/local/lib/python3.10/dist-packages (from pytezos) (0.9.0)\n",
            "Collecting testcontainers>=3.7.0 (from pytezos)\n",
            "  Using cached testcontainers-4.8.0-py3-none-any.whl.metadata (7.6 kB)\n",
            "Requirement already satisfied: tqdm>=4.62.3 in /usr/local/lib/python3.10/dist-packages (from pytezos) (4.66.5)\n",
            "Requirement already satisfied: exceptiongroup>=1.1.1 in /usr/local/lib/python3.10/dist-packages (from cattrs>=22.1.0->pytezos) (1.2.2)\n",
            "Requirement already satisfied: typing-extensions!=4.6.3,>=4.1.0 in /usr/local/lib/python3.10/dist-packages (from cattrs>=22.1.0->pytezos) (4.12.2)\n",
            "Requirement already satisfied: asn1crypto in /usr/local/lib/python3.10/dist-packages (from coincurve>=20.0.0->pytezos) (1.5.1)\n",
            "Requirement already satisfied: cffi>=1.3.0 in /usr/local/lib/python3.10/dist-packages (from coincurve>=20.0.0->pytezos) (1.17.0)\n",
            "Requirement already satisfied: packaging in /usr/local/lib/python3.10/dist-packages (from deprecation>=2.1.0->pytezos) (24.1)\n",
            "Requirement already satisfied: urllib3>=1.26.0 in /usr/local/lib/python3.10/dist-packages (from docker>=6.0.0->pytezos) (2.0.7)\n",
            "Requirement already satisfied: jsonschema-specifications>=2023.03.6 in /usr/local/lib/python3.10/dist-packages (from jsonschema>=4.3.2->pytezos) (2023.12.1)\n",
            "Requirement already satisfied: referencing>=0.28.4 in /usr/local/lib/python3.10/dist-packages (from jsonschema>=4.3.2->pytezos) (0.35.1)\n",
            "Requirement already satisfied: rpds-py>=0.7.1 in /usr/local/lib/python3.10/dist-packages (from jsonschema>=4.3.2->pytezos) (0.20.0)\n",
            "Requirement already satisfied: jinja2 in /usr/local/lib/python3.10/dist-packages (from notebook<7,>=6.5->pytezos) (3.1.4)\n",
            "Requirement already satisfied: tornado>=6.1 in /usr/local/lib/python3.10/dist-packages (from notebook<7,>=6.5->pytezos) (6.3.3)\n",
            "Requirement already satisfied: pyzmq<25,>=17 in /usr/local/lib/python3.10/dist-packages (from notebook<7,>=6.5->pytezos) (24.0.1)\n",
            "Requirement already satisfied: argon2-cffi in /usr/local/lib/python3.10/dist-packages (from notebook<7,>=6.5->pytezos) (23.1.0)\n",
            "Requirement already satisfied: traitlets>=4.2.1 in /usr/local/lib/python3.10/dist-packages (from notebook<7,>=6.5->pytezos) (5.7.1)\n",
            "Requirement already satisfied: jupyter-core>=4.6.1 in /usr/local/lib/python3.10/dist-packages (from notebook<7,>=6.5->pytezos) (5.7.2)\n",
            "Requirement already satisfied: jupyter-client<8,>=5.3.4 in /usr/local/lib/python3.10/dist-packages (from notebook<7,>=6.5->pytezos) (6.1.12)\n",
            "Requirement already satisfied: ipython-genutils in /usr/local/lib/python3.10/dist-packages (from notebook<7,>=6.5->pytezos) (0.2.0)\n",
            "Requirement already satisfied: nbformat in /usr/local/lib/python3.10/dist-packages (from notebook<7,>=6.5->pytezos) (5.10.4)\n",
            "Requirement already satisfied: nbconvert>=5 in /usr/local/lib/python3.10/dist-packages (from notebook<7,>=6.5->pytezos) (6.5.4)\n",
            "Requirement already satisfied: nest-asyncio>=1.5 in /usr/local/lib/python3.10/dist-packages (from notebook<7,>=6.5->pytezos) (1.6.0)\n",
            "Requirement already satisfied: ipykernel in /usr/local/lib/python3.10/dist-packages (from notebook<7,>=6.5->pytezos) (5.5.6)\n",
            "Requirement already satisfied: Send2Trash>=1.8.0 in /usr/local/lib/python3.10/dist-packages (from notebook<7,>=6.5->pytezos) (1.8.3)\n",
            "Requirement already satisfied: terminado>=0.8.3 in /usr/local/lib/python3.10/dist-packages (from notebook<7,>=6.5->pytezos) (0.18.1)\n",
            "Requirement already satisfied: prometheus-client in /usr/local/lib/python3.10/dist-packages (from notebook<7,>=6.5->pytezos) (0.20.0)\n",
            "Requirement already satisfied: nbclassic>=0.4.7 in /usr/local/lib/python3.10/dist-packages (from notebook<7,>=6.5->pytezos) (1.1.0)\n",
            "Requirement already satisfied: eth-typing>=3.0.0 in /usr/local/lib/python3.10/dist-packages (from py-ecc>=7.0.0->pytezos) (4.4.0)\n",
            "Requirement already satisfied: eth-utils>=2.0.0 in /usr/local/lib/python3.10/dist-packages (from py-ecc>=7.0.0->pytezos) (4.1.1)\n",
            "Collecting cached-property>=1.5.1 (from py-ecc>=7.0.0->pytezos)\n",
            "  Using cached cached_property-1.5.2-py2.py3-none-any.whl.metadata (11 kB)\n",
            "Requirement already satisfied: six>=1.5 in /usr/local/lib/python3.10/dist-packages (from python-dateutil>=2.8.2->pytezos) (1.16.0)\n",
            "Requirement already satisfied: charset-normalizer<4,>=2 in /usr/local/lib/python3.10/dist-packages (from requests>=2.28.2->pytezos) (3.3.2)\n",
            "Requirement already satisfied: idna<4,>=2.5 in /usr/local/lib/python3.10/dist-packages (from requests>=2.28.2->pytezos) (3.7)\n",
            "Requirement already satisfied: certifi>=2017.4.17 in /usr/local/lib/python3.10/dist-packages (from requests>=2.28.2->pytezos) (2024.7.4)\n",
            "Requirement already satisfied: wrapt in /usr/local/lib/python3.10/dist-packages (from testcontainers>=3.7.0->pytezos) (1.16.0)\n",
            "Requirement already satisfied: pycparser in /usr/local/lib/python3.10/dist-packages (from cffi>=1.3.0->coincurve>=20.0.0->pytezos) (2.22)\n",
            "Requirement already satisfied: eth-hash>=0.3.1 in /usr/local/lib/python3.10/dist-packages (from eth-utils>=2.0.0->py-ecc>=7.0.0->pytezos) (0.7.0)\n",
            "Requirement already satisfied: cytoolz>=0.10.1 in /usr/local/lib/python3.10/dist-packages (from eth-utils>=2.0.0->py-ecc>=7.0.0->pytezos) (0.12.3)\n",
            "Requirement already satisfied: platformdirs>=2.5 in /usr/local/lib/python3.10/dist-packages (from jupyter-core>=4.6.1->notebook<7,>=6.5->pytezos) (4.2.2)\n",
            "Requirement already satisfied: notebook-shim>=0.2.3 in /usr/local/lib/python3.10/dist-packages (from nbclassic>=0.4.7->notebook<7,>=6.5->pytezos) (0.2.4)\n",
            "Requirement already satisfied: lxml in /usr/local/lib/python3.10/dist-packages (from nbconvert>=5->notebook<7,>=6.5->pytezos) (4.9.4)\n",
            "Requirement already satisfied: beautifulsoup4 in /usr/local/lib/python3.10/dist-packages (from nbconvert>=5->notebook<7,>=6.5->pytezos) (4.12.3)\n",
            "Requirement already satisfied: bleach in /usr/local/lib/python3.10/dist-packages (from nbconvert>=5->notebook<7,>=6.5->pytezos) (6.1.0)\n",
            "Requirement already satisfied: defusedxml in /usr/local/lib/python3.10/dist-packages (from nbconvert>=5->notebook<7,>=6.5->pytezos) (0.7.1)\n",
            "Requirement already satisfied: entrypoints>=0.2.2 in /usr/local/lib/python3.10/dist-packages (from nbconvert>=5->notebook<7,>=6.5->pytezos) (0.4)\n",
            "Requirement already satisfied: jupyterlab-pygments in /usr/local/lib/python3.10/dist-packages (from nbconvert>=5->notebook<7,>=6.5->pytezos) (0.3.0)\n",
            "Requirement already satisfied: MarkupSafe>=2.0 in /usr/local/lib/python3.10/dist-packages (from nbconvert>=5->notebook<7,>=6.5->pytezos) (2.1.5)\n",
            "Requirement already satisfied: mistune<2,>=0.8.1 in /usr/local/lib/python3.10/dist-packages (from nbconvert>=5->notebook<7,>=6.5->pytezos) (0.8.4)\n",
            "Requirement already satisfied: nbclient>=0.5.0 in /usr/local/lib/python3.10/dist-packages (from nbconvert>=5->notebook<7,>=6.5->pytezos) (0.10.0)\n",
            "Requirement already satisfied: pandocfilters>=1.4.1 in /usr/local/lib/python3.10/dist-packages (from nbconvert>=5->notebook<7,>=6.5->pytezos) (1.5.1)\n",
            "Requirement already satisfied: pygments>=2.4.1 in /usr/local/lib/python3.10/dist-packages (from nbconvert>=5->notebook<7,>=6.5->pytezos) (2.16.1)\n",
            "Requirement already satisfied: tinycss2 in /usr/local/lib/python3.10/dist-packages (from nbconvert>=5->notebook<7,>=6.5->pytezos) (1.3.0)\n",
            "Requirement already satisfied: fastjsonschema>=2.15 in /usr/local/lib/python3.10/dist-packages (from nbformat->notebook<7,>=6.5->pytezos) (2.20.0)\n",
            "Requirement already satisfied: ptyprocess in /usr/local/lib/python3.10/dist-packages (from terminado>=0.8.3->notebook<7,>=6.5->pytezos) (0.7.0)\n",
            "Requirement already satisfied: argon2-cffi-bindings in /usr/local/lib/python3.10/dist-packages (from argon2-cffi->notebook<7,>=6.5->pytezos) (21.2.0)\n",
            "Requirement already satisfied: ipython>=5.0.0 in /usr/local/lib/python3.10/dist-packages (from ipykernel->notebook<7,>=6.5->pytezos) (7.34.0)\n",
            "Requirement already satisfied: toolz>=0.8.0 in /usr/local/lib/python3.10/dist-packages (from cytoolz>=0.10.1->eth-utils>=2.0.0->py-ecc>=7.0.0->pytezos) (0.12.1)\n",
            "Requirement already satisfied: setuptools>=18.5 in /usr/local/lib/python3.10/dist-packages (from ipython>=5.0.0->ipykernel->notebook<7,>=6.5->pytezos) (71.0.4)\n",
            "Collecting jedi>=0.16 (from ipython>=5.0.0->ipykernel->notebook<7,>=6.5->pytezos)\n",
            "  Using cached jedi-0.19.1-py2.py3-none-any.whl.metadata (22 kB)\n",
            "Requirement already satisfied: decorator in /usr/local/lib/python3.10/dist-packages (from ipython>=5.0.0->ipykernel->notebook<7,>=6.5->pytezos) (4.4.2)\n",
            "Requirement already satisfied: pickleshare in /usr/local/lib/python3.10/dist-packages (from ipython>=5.0.0->ipykernel->notebook<7,>=6.5->pytezos) (0.7.5)\n",
            "Requirement already satisfied: prompt-toolkit!=3.0.0,!=3.0.1,<3.1.0,>=2.0.0 in /usr/local/lib/python3.10/dist-packages (from ipython>=5.0.0->ipykernel->notebook<7,>=6.5->pytezos) (3.0.47)\n",
            "Requirement already satisfied: backcall in /usr/local/lib/python3.10/dist-packages (from ipython>=5.0.0->ipykernel->notebook<7,>=6.5->pytezos) (0.2.0)\n",
            "Requirement already satisfied: matplotlib-inline in /usr/local/lib/python3.10/dist-packages (from ipython>=5.0.0->ipykernel->notebook<7,>=6.5->pytezos) (0.1.7)\n",
            "Requirement already satisfied: pexpect>4.3 in /usr/local/lib/python3.10/dist-packages (from ipython>=5.0.0->ipykernel->notebook<7,>=6.5->pytezos) (4.9.0)\n",
            "Requirement already satisfied: jupyter-server<3,>=1.8 in /usr/local/lib/python3.10/dist-packages (from notebook-shim>=0.2.3->nbclassic>=0.4.7->notebook<7,>=6.5->pytezos) (1.24.0)\n",
            "Requirement already satisfied: soupsieve>1.2 in /usr/local/lib/python3.10/dist-packages (from beautifulsoup4->nbconvert>=5->notebook<7,>=6.5->pytezos) (2.5)\n",
            "Requirement already satisfied: webencodings in /usr/local/lib/python3.10/dist-packages (from bleach->nbconvert>=5->notebook<7,>=6.5->pytezos) (0.5.1)\n",
            "Requirement already satisfied: parso<0.9.0,>=0.8.3 in /usr/local/lib/python3.10/dist-packages (from jedi>=0.16->ipython>=5.0.0->ipykernel->notebook<7,>=6.5->pytezos) (0.8.4)\n",
            "Requirement already satisfied: anyio<4,>=3.1.0 in /usr/local/lib/python3.10/dist-packages (from jupyter-server<3,>=1.8->notebook-shim>=0.2.3->nbclassic>=0.4.7->notebook<7,>=6.5->pytezos) (3.7.1)\n",
            "Requirement already satisfied: websocket-client in /usr/local/lib/python3.10/dist-packages (from jupyter-server<3,>=1.8->notebook-shim>=0.2.3->nbclassic>=0.4.7->notebook<7,>=6.5->pytezos) (1.8.0)\n",
            "Requirement already satisfied: wcwidth in /usr/local/lib/python3.10/dist-packages (from prompt-toolkit!=3.0.0,!=3.0.1,<3.1.0,>=2.0.0->ipython>=5.0.0->ipykernel->notebook<7,>=6.5->pytezos) (0.2.13)\n",
            "Requirement already satisfied: sniffio>=1.1 in /usr/local/lib/python3.10/dist-packages (from anyio<4,>=3.1.0->jupyter-server<3,>=1.8->notebook-shim>=0.2.3->nbclassic>=0.4.7->notebook<7,>=6.5->pytezos) (1.3.1)\n",
            "Using cached pytezos-3.13.3-py3-none-any.whl (209 kB)\n",
            "Using cached cattrs-23.2.3-py3-none-any.whl (57 kB)\n",
            "Using cached coincurve-20.0.0-cp310-cp310-manylinux_2_17_x86_64.manylinux2014_x86_64.whl (1.2 MB)\n",
            "Using cached deprecation-2.1.0-py2.py3-none-any.whl (11 kB)\n",
            "Using cached docker-7.1.0-py3-none-any.whl (147 kB)\n",
            "Using cached mnemonic-0.21-py3-none-any.whl (92 kB)\n",
            "Using cached ply-3.11-py2.py3-none-any.whl (49 kB)\n",
            "Using cached py_ecc-7.0.1-py3-none-any.whl (43 kB)\n",
            "Using cached simple_bson-0.0.3-py3-none-any.whl (8.0 kB)\n",
            "Using cached simplejson-3.19.3-cp310-cp310-manylinux_2_5_x86_64.manylinux1_x86_64.manylinux_2_17_x86_64.manylinux2014_x86_64.whl (137 kB)\n",
            "Using cached testcontainers-4.8.0-py3-none-any.whl (104 kB)\n",
            "Using cached cached_property-1.5.2-py2.py3-none-any.whl (7.6 kB)\n",
            "Using cached jedi-0.19.1-py2.py3-none-any.whl (1.6 MB)\n",
            "Building wheels for collected packages: fastecdsa\n",
            "  \u001b[1;31merror\u001b[0m: \u001b[1msubprocess-exited-with-error\u001b[0m\n",
            "  \n",
            "  \u001b[31m×\u001b[0m \u001b[32mBuilding wheel for fastecdsa \u001b[0m\u001b[1;32m(\u001b[0m\u001b[32mpyproject.toml\u001b[0m\u001b[1;32m)\u001b[0m did not run successfully.\n",
            "  \u001b[31m│\u001b[0m exit code: \u001b[1;36m1\u001b[0m\n",
            "  \u001b[31m╰─>\u001b[0m See above for output.\n",
            "  \n",
            "  \u001b[1;35mnote\u001b[0m: This error originates from a subprocess, and is likely not a problem with pip.\n",
            "  Building wheel for fastecdsa (pyproject.toml) ... \u001b[?25l\u001b[?25herror\n",
            "\u001b[31m  ERROR: Failed building wheel for fastecdsa\u001b[0m\u001b[31m\n",
            "\u001b[0mFailed to build fastecdsa\n",
            "\u001b[31mERROR: ERROR: Failed to build installable wheels for some pyproject.toml based projects (fastecdsa)\u001b[0m\u001b[31m\n",
            "\u001b[0m"
          ]
        }
      ]
    },
    {
      "cell_type": "code",
      "source": [
        "!pip install pytezos --upgrade"
      ],
      "metadata": {
        "colab": {
          "base_uri": "https://localhost:8080/"
        },
        "outputId": "7b15eda3-9c61-4406-c8e6-ed14239b41aa",
        "id": "onW0wnFElD4s"
      },
      "execution_count": null,
      "outputs": [
        {
          "output_type": "stream",
          "name": "stdout",
          "text": [
            "Collecting pytezos\n",
            "  Using cached pytezos-3.13.3-py3-none-any.whl.metadata (8.2 kB)\n",
            "Requirement already satisfied: attrs>=21.4.0 in /usr/local/lib/python3.10/dist-packages (from pytezos) (24.2.0)\n",
            "Requirement already satisfied: base58>=2.1.1 in /usr/local/lib/python3.10/dist-packages (from pytezos) (2.1.1)\n",
            "Collecting cattrs>=22.1.0 (from pytezos)\n",
            "  Using cached cattrs-23.2.3-py3-none-any.whl.metadata (10 kB)\n",
            "Requirement already satisfied: click>=8.1.3 in /usr/local/lib/python3.10/dist-packages (from pytezos) (8.1.7)\n",
            "Collecting coincurve>=20.0.0 (from pytezos)\n",
            "  Using cached coincurve-20.0.0-cp310-cp310-manylinux_2_17_x86_64.manylinux2014_x86_64.whl.metadata (4.0 kB)\n",
            "Requirement already satisfied: cryptography>=42.0.4 in /usr/local/lib/python3.10/dist-packages (from pytezos) (42.0.8)\n",
            "Collecting deprecation>=2.1.0 (from pytezos)\n",
            "  Using cached deprecation-2.1.0-py2.py3-none-any.whl.metadata (4.6 kB)\n",
            "Collecting docker>=6.0.0 (from pytezos)\n",
            "  Using cached docker-7.1.0-py3-none-any.whl.metadata (3.8 kB)\n",
            "Collecting fastecdsa>=2.2.3 (from pytezos)\n",
            "  Using cached fastecdsa-2.3.2.tar.gz (47 kB)\n",
            "  Installing build dependencies ... \u001b[?25l\u001b[?25hdone\n",
            "  Getting requirements to build wheel ... \u001b[?25l\u001b[?25hdone\n",
            "  Preparing metadata (pyproject.toml) ... \u001b[?25l\u001b[?25hdone\n",
            "Requirement already satisfied: jsonschema>=4.3.2 in /usr/local/lib/python3.10/dist-packages (from pytezos) (4.23.0)\n",
            "Collecting mnemonic>=0.21 (from pytezos)\n",
            "  Using cached mnemonic-0.21-py3-none-any.whl.metadata (3.4 kB)\n",
            "Collecting netstruct>=1.1.2 (from pytezos)\n",
            "  Using cached netstruct-1.1.2-py3-none-any.whl\n",
            "Requirement already satisfied: notebook<7,>=6.5 in /usr/local/lib/python3.10/dist-packages (from pytezos) (6.5.5)\n",
            "Collecting ply>=3.11 (from pytezos)\n",
            "  Using cached ply-3.11-py2.py3-none-any.whl.metadata (844 bytes)\n",
            "Collecting py-ecc>=7.0.0 (from pytezos)\n",
            "  Using cached py_ecc-7.0.1-py3-none-any.whl.metadata (6.3 kB)\n",
            "Collecting pysodium>=0.7.10 (from pytezos)\n",
            "  Using cached pysodium-0.7.18-py3-none-any.whl\n",
            "Requirement already satisfied: python-dateutil>=2.8.2 in /usr/local/lib/python3.10/dist-packages (from pytezos) (2.8.2)\n",
            "Requirement already satisfied: requests>=2.28.2 in /usr/local/lib/python3.10/dist-packages (from pytezos) (2.32.3)\n",
            "Collecting simple-bson>=0.0.3 (from pytezos)\n",
            "  Using cached simple_bson-0.0.3-py3-none-any.whl.metadata (1.3 kB)\n",
            "Collecting simplejson>=3.17.6 (from pytezos)\n",
            "  Using cached simplejson-3.19.3-cp310-cp310-manylinux_2_5_x86_64.manylinux1_x86_64.manylinux_2_17_x86_64.manylinux2014_x86_64.whl.metadata (3.2 kB)\n",
            "Collecting strict-rfc3339>=0.7 (from pytezos)\n",
            "  Using cached strict_rfc3339-0.7-py3-none-any.whl\n",
            "Requirement already satisfied: tabulate>=0.9.0 in /usr/local/lib/python3.10/dist-packages (from pytezos) (0.9.0)\n",
            "Collecting testcontainers>=3.7.0 (from pytezos)\n",
            "  Using cached testcontainers-4.8.0-py3-none-any.whl.metadata (7.6 kB)\n",
            "Requirement already satisfied: tqdm>=4.62.3 in /usr/local/lib/python3.10/dist-packages (from pytezos) (4.66.5)\n",
            "Requirement already satisfied: exceptiongroup>=1.1.1 in /usr/local/lib/python3.10/dist-packages (from cattrs>=22.1.0->pytezos) (1.2.2)\n",
            "Requirement already satisfied: typing-extensions!=4.6.3,>=4.1.0 in /usr/local/lib/python3.10/dist-packages (from cattrs>=22.1.0->pytezos) (4.12.2)\n",
            "Requirement already satisfied: asn1crypto in /usr/local/lib/python3.10/dist-packages (from coincurve>=20.0.0->pytezos) (1.5.1)\n",
            "Requirement already satisfied: cffi>=1.3.0 in /usr/local/lib/python3.10/dist-packages (from coincurve>=20.0.0->pytezos) (1.17.0)\n",
            "Requirement already satisfied: packaging in /usr/local/lib/python3.10/dist-packages (from deprecation>=2.1.0->pytezos) (24.1)\n",
            "Requirement already satisfied: urllib3>=1.26.0 in /usr/local/lib/python3.10/dist-packages (from docker>=6.0.0->pytezos) (2.0.7)\n",
            "Requirement already satisfied: jsonschema-specifications>=2023.03.6 in /usr/local/lib/python3.10/dist-packages (from jsonschema>=4.3.2->pytezos) (2023.12.1)\n",
            "Requirement already satisfied: referencing>=0.28.4 in /usr/local/lib/python3.10/dist-packages (from jsonschema>=4.3.2->pytezos) (0.35.1)\n",
            "Requirement already satisfied: rpds-py>=0.7.1 in /usr/local/lib/python3.10/dist-packages (from jsonschema>=4.3.2->pytezos) (0.20.0)\n",
            "Requirement already satisfied: jinja2 in /usr/local/lib/python3.10/dist-packages (from notebook<7,>=6.5->pytezos) (3.1.4)\n",
            "Requirement already satisfied: tornado>=6.1 in /usr/local/lib/python3.10/dist-packages (from notebook<7,>=6.5->pytezos) (6.3.3)\n",
            "Requirement already satisfied: pyzmq<25,>=17 in /usr/local/lib/python3.10/dist-packages (from notebook<7,>=6.5->pytezos) (24.0.1)\n",
            "Requirement already satisfied: argon2-cffi in /usr/local/lib/python3.10/dist-packages (from notebook<7,>=6.5->pytezos) (23.1.0)\n",
            "Requirement already satisfied: traitlets>=4.2.1 in /usr/local/lib/python3.10/dist-packages (from notebook<7,>=6.5->pytezos) (5.7.1)\n",
            "Requirement already satisfied: jupyter-core>=4.6.1 in /usr/local/lib/python3.10/dist-packages (from notebook<7,>=6.5->pytezos) (5.7.2)\n",
            "Requirement already satisfied: jupyter-client<8,>=5.3.4 in /usr/local/lib/python3.10/dist-packages (from notebook<7,>=6.5->pytezos) (6.1.12)\n",
            "Requirement already satisfied: ipython-genutils in /usr/local/lib/python3.10/dist-packages (from notebook<7,>=6.5->pytezos) (0.2.0)\n",
            "Requirement already satisfied: nbformat in /usr/local/lib/python3.10/dist-packages (from notebook<7,>=6.5->pytezos) (5.10.4)\n",
            "Requirement already satisfied: nbconvert>=5 in /usr/local/lib/python3.10/dist-packages (from notebook<7,>=6.5->pytezos) (6.5.4)\n",
            "Requirement already satisfied: nest-asyncio>=1.5 in /usr/local/lib/python3.10/dist-packages (from notebook<7,>=6.5->pytezos) (1.6.0)\n",
            "Requirement already satisfied: ipykernel in /usr/local/lib/python3.10/dist-packages (from notebook<7,>=6.5->pytezos) (5.5.6)\n",
            "Requirement already satisfied: Send2Trash>=1.8.0 in /usr/local/lib/python3.10/dist-packages (from notebook<7,>=6.5->pytezos) (1.8.3)\n",
            "Requirement already satisfied: terminado>=0.8.3 in /usr/local/lib/python3.10/dist-packages (from notebook<7,>=6.5->pytezos) (0.18.1)\n",
            "Requirement already satisfied: prometheus-client in /usr/local/lib/python3.10/dist-packages (from notebook<7,>=6.5->pytezos) (0.20.0)\n",
            "Requirement already satisfied: nbclassic>=0.4.7 in /usr/local/lib/python3.10/dist-packages (from notebook<7,>=6.5->pytezos) (1.1.0)\n",
            "Requirement already satisfied: eth-typing>=3.0.0 in /usr/local/lib/python3.10/dist-packages (from py-ecc>=7.0.0->pytezos) (4.4.0)\n",
            "Requirement already satisfied: eth-utils>=2.0.0 in /usr/local/lib/python3.10/dist-packages (from py-ecc>=7.0.0->pytezos) (4.1.1)\n",
            "Collecting cached-property>=1.5.1 (from py-ecc>=7.0.0->pytezos)\n",
            "  Using cached cached_property-1.5.2-py2.py3-none-any.whl.metadata (11 kB)\n",
            "Requirement already satisfied: six>=1.5 in /usr/local/lib/python3.10/dist-packages (from python-dateutil>=2.8.2->pytezos) (1.16.0)\n",
            "Requirement already satisfied: charset-normalizer<4,>=2 in /usr/local/lib/python3.10/dist-packages (from requests>=2.28.2->pytezos) (3.3.2)\n",
            "Requirement already satisfied: idna<4,>=2.5 in /usr/local/lib/python3.10/dist-packages (from requests>=2.28.2->pytezos) (3.7)\n",
            "Requirement already satisfied: certifi>=2017.4.17 in /usr/local/lib/python3.10/dist-packages (from requests>=2.28.2->pytezos) (2024.7.4)\n",
            "Requirement already satisfied: wrapt in /usr/local/lib/python3.10/dist-packages (from testcontainers>=3.7.0->pytezos) (1.16.0)\n",
            "Requirement already satisfied: pycparser in /usr/local/lib/python3.10/dist-packages (from cffi>=1.3.0->coincurve>=20.0.0->pytezos) (2.22)\n",
            "Requirement already satisfied: eth-hash>=0.3.1 in /usr/local/lib/python3.10/dist-packages (from eth-utils>=2.0.0->py-ecc>=7.0.0->pytezos) (0.7.0)\n",
            "Requirement already satisfied: cytoolz>=0.10.1 in /usr/local/lib/python3.10/dist-packages (from eth-utils>=2.0.0->py-ecc>=7.0.0->pytezos) (0.12.3)\n",
            "Requirement already satisfied: platformdirs>=2.5 in /usr/local/lib/python3.10/dist-packages (from jupyter-core>=4.6.1->notebook<7,>=6.5->pytezos) (4.2.2)\n",
            "Requirement already satisfied: notebook-shim>=0.2.3 in /usr/local/lib/python3.10/dist-packages (from nbclassic>=0.4.7->notebook<7,>=6.5->pytezos) (0.2.4)\n",
            "Requirement already satisfied: lxml in /usr/local/lib/python3.10/dist-packages (from nbconvert>=5->notebook<7,>=6.5->pytezos) (4.9.4)\n",
            "Requirement already satisfied: beautifulsoup4 in /usr/local/lib/python3.10/dist-packages (from nbconvert>=5->notebook<7,>=6.5->pytezos) (4.12.3)\n",
            "Requirement already satisfied: bleach in /usr/local/lib/python3.10/dist-packages (from nbconvert>=5->notebook<7,>=6.5->pytezos) (6.1.0)\n",
            "Requirement already satisfied: defusedxml in /usr/local/lib/python3.10/dist-packages (from nbconvert>=5->notebook<7,>=6.5->pytezos) (0.7.1)\n",
            "Requirement already satisfied: entrypoints>=0.2.2 in /usr/local/lib/python3.10/dist-packages (from nbconvert>=5->notebook<7,>=6.5->pytezos) (0.4)\n",
            "Requirement already satisfied: jupyterlab-pygments in /usr/local/lib/python3.10/dist-packages (from nbconvert>=5->notebook<7,>=6.5->pytezos) (0.3.0)\n",
            "Requirement already satisfied: MarkupSafe>=2.0 in /usr/local/lib/python3.10/dist-packages (from nbconvert>=5->notebook<7,>=6.5->pytezos) (2.1.5)\n",
            "Requirement already satisfied: mistune<2,>=0.8.1 in /usr/local/lib/python3.10/dist-packages (from nbconvert>=5->notebook<7,>=6.5->pytezos) (0.8.4)\n",
            "Requirement already satisfied: nbclient>=0.5.0 in /usr/local/lib/python3.10/dist-packages (from nbconvert>=5->notebook<7,>=6.5->pytezos) (0.10.0)\n",
            "Requirement already satisfied: pandocfilters>=1.4.1 in /usr/local/lib/python3.10/dist-packages (from nbconvert>=5->notebook<7,>=6.5->pytezos) (1.5.1)\n",
            "Requirement already satisfied: pygments>=2.4.1 in /usr/local/lib/python3.10/dist-packages (from nbconvert>=5->notebook<7,>=6.5->pytezos) (2.16.1)\n",
            "Requirement already satisfied: tinycss2 in /usr/local/lib/python3.10/dist-packages (from nbconvert>=5->notebook<7,>=6.5->pytezos) (1.3.0)\n",
            "Requirement already satisfied: fastjsonschema>=2.15 in /usr/local/lib/python3.10/dist-packages (from nbformat->notebook<7,>=6.5->pytezos) (2.20.0)\n",
            "Requirement already satisfied: ptyprocess in /usr/local/lib/python3.10/dist-packages (from terminado>=0.8.3->notebook<7,>=6.5->pytezos) (0.7.0)\n",
            "Requirement already satisfied: argon2-cffi-bindings in /usr/local/lib/python3.10/dist-packages (from argon2-cffi->notebook<7,>=6.5->pytezos) (21.2.0)\n",
            "Requirement already satisfied: ipython>=5.0.0 in /usr/local/lib/python3.10/dist-packages (from ipykernel->notebook<7,>=6.5->pytezos) (7.34.0)\n",
            "Requirement already satisfied: toolz>=0.8.0 in /usr/local/lib/python3.10/dist-packages (from cytoolz>=0.10.1->eth-utils>=2.0.0->py-ecc>=7.0.0->pytezos) (0.12.1)\n",
            "Requirement already satisfied: setuptools>=18.5 in /usr/local/lib/python3.10/dist-packages (from ipython>=5.0.0->ipykernel->notebook<7,>=6.5->pytezos) (71.0.4)\n",
            "Collecting jedi>=0.16 (from ipython>=5.0.0->ipykernel->notebook<7,>=6.5->pytezos)\n",
            "  Using cached jedi-0.19.1-py2.py3-none-any.whl.metadata (22 kB)\n",
            "Requirement already satisfied: decorator in /usr/local/lib/python3.10/dist-packages (from ipython>=5.0.0->ipykernel->notebook<7,>=6.5->pytezos) (4.4.2)\n",
            "Requirement already satisfied: pickleshare in /usr/local/lib/python3.10/dist-packages (from ipython>=5.0.0->ipykernel->notebook<7,>=6.5->pytezos) (0.7.5)\n",
            "Requirement already satisfied: prompt-toolkit!=3.0.0,!=3.0.1,<3.1.0,>=2.0.0 in /usr/local/lib/python3.10/dist-packages (from ipython>=5.0.0->ipykernel->notebook<7,>=6.5->pytezos) (3.0.47)\n",
            "Requirement already satisfied: backcall in /usr/local/lib/python3.10/dist-packages (from ipython>=5.0.0->ipykernel->notebook<7,>=6.5->pytezos) (0.2.0)\n",
            "Requirement already satisfied: matplotlib-inline in /usr/local/lib/python3.10/dist-packages (from ipython>=5.0.0->ipykernel->notebook<7,>=6.5->pytezos) (0.1.7)\n",
            "Requirement already satisfied: pexpect>4.3 in /usr/local/lib/python3.10/dist-packages (from ipython>=5.0.0->ipykernel->notebook<7,>=6.5->pytezos) (4.9.0)\n",
            "Requirement already satisfied: jupyter-server<3,>=1.8 in /usr/local/lib/python3.10/dist-packages (from notebook-shim>=0.2.3->nbclassic>=0.4.7->notebook<7,>=6.5->pytezos) (1.24.0)\n",
            "Requirement already satisfied: soupsieve>1.2 in /usr/local/lib/python3.10/dist-packages (from beautifulsoup4->nbconvert>=5->notebook<7,>=6.5->pytezos) (2.5)\n",
            "Requirement already satisfied: webencodings in /usr/local/lib/python3.10/dist-packages (from bleach->nbconvert>=5->notebook<7,>=6.5->pytezos) (0.5.1)\n",
            "Requirement already satisfied: parso<0.9.0,>=0.8.3 in /usr/local/lib/python3.10/dist-packages (from jedi>=0.16->ipython>=5.0.0->ipykernel->notebook<7,>=6.5->pytezos) (0.8.4)\n",
            "Requirement already satisfied: anyio<4,>=3.1.0 in /usr/local/lib/python3.10/dist-packages (from jupyter-server<3,>=1.8->notebook-shim>=0.2.3->nbclassic>=0.4.7->notebook<7,>=6.5->pytezos) (3.7.1)\n",
            "Requirement already satisfied: websocket-client in /usr/local/lib/python3.10/dist-packages (from jupyter-server<3,>=1.8->notebook-shim>=0.2.3->nbclassic>=0.4.7->notebook<7,>=6.5->pytezos) (1.8.0)\n",
            "Requirement already satisfied: wcwidth in /usr/local/lib/python3.10/dist-packages (from prompt-toolkit!=3.0.0,!=3.0.1,<3.1.0,>=2.0.0->ipython>=5.0.0->ipykernel->notebook<7,>=6.5->pytezos) (0.2.13)\n",
            "Requirement already satisfied: sniffio>=1.1 in /usr/local/lib/python3.10/dist-packages (from anyio<4,>=3.1.0->jupyter-server<3,>=1.8->notebook-shim>=0.2.3->nbclassic>=0.4.7->notebook<7,>=6.5->pytezos) (1.3.1)\n",
            "Using cached pytezos-3.13.3-py3-none-any.whl (209 kB)\n",
            "Using cached cattrs-23.2.3-py3-none-any.whl (57 kB)\n",
            "Using cached coincurve-20.0.0-cp310-cp310-manylinux_2_17_x86_64.manylinux2014_x86_64.whl (1.2 MB)\n",
            "Using cached deprecation-2.1.0-py2.py3-none-any.whl (11 kB)\n",
            "Using cached docker-7.1.0-py3-none-any.whl (147 kB)\n",
            "Using cached mnemonic-0.21-py3-none-any.whl (92 kB)\n",
            "Using cached ply-3.11-py2.py3-none-any.whl (49 kB)\n",
            "Using cached py_ecc-7.0.1-py3-none-any.whl (43 kB)\n",
            "Using cached simple_bson-0.0.3-py3-none-any.whl (8.0 kB)\n",
            "Using cached simplejson-3.19.3-cp310-cp310-manylinux_2_5_x86_64.manylinux1_x86_64.manylinux_2_17_x86_64.manylinux2014_x86_64.whl (137 kB)\n",
            "Using cached testcontainers-4.8.0-py3-none-any.whl (104 kB)\n",
            "Using cached cached_property-1.5.2-py2.py3-none-any.whl (7.6 kB)\n",
            "Using cached jedi-0.19.1-py2.py3-none-any.whl (1.6 MB)\n",
            "Building wheels for collected packages: fastecdsa\n",
            "  \u001b[1;31merror\u001b[0m: \u001b[1msubprocess-exited-with-error\u001b[0m\n",
            "  \n",
            "  \u001b[31m×\u001b[0m \u001b[32mBuilding wheel for fastecdsa \u001b[0m\u001b[1;32m(\u001b[0m\u001b[32mpyproject.toml\u001b[0m\u001b[1;32m)\u001b[0m did not run successfully.\n",
            "  \u001b[31m│\u001b[0m exit code: \u001b[1;36m1\u001b[0m\n",
            "  \u001b[31m╰─>\u001b[0m See above for output.\n",
            "  \n",
            "  \u001b[1;35mnote\u001b[0m: This error originates from a subprocess, and is likely not a problem with pip.\n",
            "  Building wheel for fastecdsa (pyproject.toml) ... \u001b[?25l\u001b[?25herror\n",
            "\u001b[31m  ERROR: Failed building wheel for fastecdsa\u001b[0m\u001b[31m\n",
            "\u001b[0mFailed to build fastecdsa\n",
            "\u001b[31mERROR: ERROR: Failed to build installable wheels for some pyproject.toml based projects (fastecdsa)\u001b[0m\u001b[31m\n",
            "\u001b[0m"
          ]
        }
      ]
    },
    {
      "cell_type": "markdown",
      "source": [
        "**3.Exchange (DEX) with Cross-Chain Liquidity (PEL)**"
      ],
      "metadata": {
        "id": "UdyCSHYnO4_-"
      }
    },
    {
      "cell_type": "markdown",
      "source": [
        "**Objective:**\n",
        "\n",
        "Aggregates liquidity from multiple blockchains, allowing users to trade assets across different chains."
      ],
      "metadata": {
        "id": "FtL-lFNcPJcE"
      }
    },
    {
      "cell_type": "markdown",
      "source": [
        "**Core Features:**"
      ],
      "metadata": {
        "id": "MQaA5TIuPfN9"
      }
    },
    {
      "cell_type": "markdown",
      "source": [
        "**Cross-chain Swaps:** Atomic swaps between different blockchains.\n",
        "\n",
        "**Liquidity Aggregation:** Pooling liquidity from multiple blockchains.\n",
        "\n",
        "**Order Matching:** Matching buy/sell orders across different chains."
      ],
      "metadata": {
        "id": "98S101uSPzlR"
      }
    },
    {
      "cell_type": "markdown",
      "source": [
        "**Implementation Strategy:**"
      ],
      "metadata": {
        "id": "I_Cty_bBQE3B"
      }
    },
    {
      "cell_type": "markdown",
      "source": [
        "**Libraries/Frameworks:**"
      ],
      "metadata": {
        "id": "RX7ZbcIBQPma"
      }
    },
    {
      "cell_type": "markdown",
      "source": [
        "web3.py for Ethereum.\n",
        "\n",
        "pytezos for Tezos.\n",
        "\n",
        "Atomic swap protocols like HTLC (Hashed Timelock Contracts).\n"
      ],
      "metadata": {
        "id": "3AkLfDhOQZjE"
      }
    },
    {
      "cell_type": "markdown",
      "source": [
        "**Smart Contracts:**"
      ],
      "metadata": {
        "id": "4AAl9wi1QnSF"
      }
    },
    {
      "cell_type": "markdown",
      "source": [
        "Contracts for atomic swaps and liquidity pools on different blockchains."
      ],
      "metadata": {
        "id": "SmhKibymQxai"
      }
    },
    {
      "cell_type": "code",
      "source": [
        "# Code example\n",
        "from web3 import Web3\n",
        "from pytezos import pytezos\n",
        "\n",
        "# Example of atomic swap (simplified)\n",
        "def atomic_swap(eth_amount, tezos_amount, eth_wallet, tezos_wallet):\n",
        "    # Lock the Ethereum in a smart contract\n",
        "    eth_contract = eth_web3.eth.contract(address=eth_wallet, abi=abi)\n",
        "    tx = eth_contract.functions.lock(eth_amount).transact({'from': eth_wallet})\n",
        "\n",
        "    # Lock the Tezos in a smart contract\n",
        "    tezos_contract = tezos.contract(address=tezos_wallet)\n",
        "    op = tezos_contract.lock(amount=tezos_amount).send()\n",
        "\n",
        "    # Swap the tokens\n",
        "    if check_swap_success(tx, op):\n",
        "        # Execute the swap\n",
        "        pass\n",
        "    else:\n",
        "        # Rollback in case of failure\n",
        "        pass\n",
        "\n",
        "# Check the success of the swap\n",
        "def check_swap_success(eth_tx, tezos_op):\n",
        "    # Implement swap success verification\n",
        "    pass"
      ],
      "metadata": {
        "id": "F9IMQn4PQzkm",
        "colab": {
          "base_uri": "https://localhost:8080/",
          "height": 405
        },
        "outputId": "d38f95d9-18c7-4e44-882b-e6a8393b8049"
      },
      "execution_count": null,
      "outputs": [
        {
          "output_type": "error",
          "ename": "ModuleNotFoundError",
          "evalue": "No module named 'pytezos'",
          "traceback": [
            "\u001b[0;31m---------------------------------------------------------------------------\u001b[0m",
            "\u001b[0;31mModuleNotFoundError\u001b[0m                       Traceback (most recent call last)",
            "\u001b[0;32m<ipython-input-23-a5287d07148f>\u001b[0m in \u001b[0;36m<cell line: 3>\u001b[0;34m()\u001b[0m\n\u001b[1;32m      1\u001b[0m \u001b[0;31m# Code example\u001b[0m\u001b[0;34m\u001b[0m\u001b[0;34m\u001b[0m\u001b[0m\n\u001b[1;32m      2\u001b[0m \u001b[0;32mfrom\u001b[0m \u001b[0mweb3\u001b[0m \u001b[0;32mimport\u001b[0m \u001b[0mWeb3\u001b[0m\u001b[0;34m\u001b[0m\u001b[0;34m\u001b[0m\u001b[0m\n\u001b[0;32m----> 3\u001b[0;31m \u001b[0;32mfrom\u001b[0m \u001b[0mpytezos\u001b[0m \u001b[0;32mimport\u001b[0m \u001b[0mpytezos\u001b[0m\u001b[0;34m\u001b[0m\u001b[0;34m\u001b[0m\u001b[0m\n\u001b[0m\u001b[1;32m      4\u001b[0m \u001b[0;34m\u001b[0m\u001b[0m\n\u001b[1;32m      5\u001b[0m \u001b[0;31m# Example of atomic swap (simplified)\u001b[0m\u001b[0;34m\u001b[0m\u001b[0;34m\u001b[0m\u001b[0m\n",
            "\u001b[0;31mModuleNotFoundError\u001b[0m: No module named 'pytezos'",
            "",
            "\u001b[0;31m---------------------------------------------------------------------------\u001b[0;32m\nNOTE: If your import is failing due to a missing package, you can\nmanually install dependencies using either !pip or !apt.\n\nTo view examples of installing some common dependencies, click the\n\"Open Examples\" button below.\n\u001b[0;31m---------------------------------------------------------------------------\u001b[0m\n"
          ],
          "errorDetails": {
            "actions": [
              {
                "action": "open_url",
                "actionText": "Open Examples",
                "url": "/notebooks/snippets/importing_libraries.ipynb"
              }
            ]
          }
        }
      ]
    },
    {
      "cell_type": "markdown",
      "source": [
        "**4.Cross-Chain Verification**"
      ],
      "metadata": {
        "id": "4FkvEFisRGpg"
      }
    },
    {
      "cell_type": "markdown",
      "source": [
        "**Objective:** Ensure that identity, collateral, and liquidity operations are verified across different chains."
      ],
      "metadata": {
        "id": "WYKAlQ9wRaKi"
      }
    },
    {
      "cell_type": "markdown",
      "source": [
        "**Core Features:**"
      ],
      "metadata": {
        "id": "exXUzfESRlAS"
      }
    },
    {
      "cell_type": "markdown",
      "source": [
        "**Cross-chain Messaging Protocols:** Use of protocols like Polkadot’s XCMP or Cosmos’ IBC.\n",
        "\n",
        "**Interoperability:** Ensure DIMS, VERLEN, and PEL components can communicate and verify operations across chains."
      ],
      "metadata": {
        "id": "Aw7ofe59RtP1"
      }
    },
    {
      "cell_type": "markdown",
      "source": [
        "**Implementation Strategy:**\n",
        "\n",
        "**Libraries/Frameworks:**\n",
        "Polkadot’s XCMP, Cosmos SDK for IBC.\n",
        "\n",
        "**Smart Contracts:**\n",
        "Cross-chain verification contracts."
      ],
      "metadata": {
        "id": "oh_vbIrOSBG0"
      }
    },
    {
      "cell_type": "code",
      "source": [
        "# Example of cross-chain messaging (using Polkadot's XCMP)\n",
        "def send_message_to_chain(destination_chain, message):\n",
        "    # Implement the logic to send a message across chains\n",
        "    pass\n",
        "\n",
        "def verify_cross_chain_message(source_chain, message):\n",
        "    # Verify the message from another blockchain\n",
        "    pass"
      ],
      "metadata": {
        "id": "XSfgoqLISQAn"
      },
      "execution_count": null,
      "outputs": []
    },
    {
      "cell_type": "markdown",
      "source": [
        "**Recommendation**\n",
        "\n",
        "Implementing DIMSVERLENPEL requires integrating multiple blockchain technologies and ensuring seamless interoperability.\n",
        "\n",
        "Each component (DIMS, VERLEN, PEL) can be developed and tested independently before integrating them into a unified system.\n",
        "\n",
        "Collaboration with blockchain developers specializing in different chains (Ethereum, Tezos, Polkadot, etc.) would be crucial for successful implementation."
      ],
      "metadata": {
        "id": "OfDydcQUSub1"
      }
    },
    {
      "cell_type": "markdown",
      "source": [
        "**Conculution**"
      ],
      "metadata": {
        "id": "Z9VrjxRZTXB4"
      }
    },
    {
      "cell_type": "markdown",
      "source": [
        "For a production-ready system, more advanced features such as scalability, security audits, and user interface design would be necessary, but this outline provides a starting point for the core functionalities of DIMSVERLENPEL."
      ],
      "metadata": {
        "id": "NkaM-sn7ThuW"
      }
    },
    {
      "cell_type": "markdown",
      "source": [
        "**Created by Christopher Ibrahim Krim**"
      ],
      "metadata": {
        "id": "W6EWBUcdTuk6"
      }
    }
  ]
}